{
 "cells": [
  {
   "cell_type": "markdown",
   "metadata": {},
   "source": [
    "# Machine Learning - Práctica Final- \n",
    "\n",
    "# Realizada por: DAYANA FRANCO\n",
    "\n",
    "## OBJETIVOS:\n",
    "El objetivo es predecir el precio del Airbnb utilizando los datos disponibles:\n",
    "1. Aplicar las técnicas de procesamiento/transformación de variables que mejor se adecúen al problema, \n",
    "2. Identificar los modelos que proporcionen prestaciones óptimas, \n",
    "3. Las variables potencialmente más relevantes y \n",
    "4. La métrica adecuada para contrastar los distintos modelos.\n",
    "\n",
    "## Librerías y funciones\n",
    "\n",
    "Lo primero es cargar las librerías y funciones necesarias."
   ]
  },
  {
   "cell_type": "code",
   "execution_count": 1,
   "metadata": {},
   "outputs": [],
   "source": [
    "import numpy as np\n",
    "import pandas as pd\n",
    "\n",
    "import matplotlib.pyplot as plt\n",
    "from matplotlib.colors import ListedColormap\n",
    "# Configuración para mostrar las gráficas directamente en el notebook\n",
    "%matplotlib inline \n",
    "\n",
    "# Configuración de colores para gráficas\n",
    "cm = plt.cm.RdBu\n",
    "cm_bright = ListedColormap(['#FF0000', '#0000FF'])\n",
    "\n",
    "# Suprimir advertencias\n",
    "import warnings\n",
    "warnings.filterwarnings('ignore')\n",
    "pd.set_option('display.max_rows', None) # para mostrar todas las filas\n",
    "pd.set_option('display.max_columns', None) # para mostrar todas las columnas"
   ]
  },
  {
   "cell_type": "code",
   "execution_count": 2,
   "metadata": {},
   "outputs": [],
   "source": [
    "def plot_confusion_matrix(confmat):\n",
    "    fig, ax = plt.subplots(figsize=(5, 5))\n",
    "    ax.matshow(confmat, cmap=plt.cm.Blues, alpha=0.5)\n",
    "    for i in range(confmat.shape[0]):\n",
    "        for j in range(confmat.shape[1]):\n",
    "            ax.text(x=j, y=i, s=confmat[i, j], va='center', ha='center')\n",
    "\n",
    "    plt.xlabel('Etiqueta predicción')\n",
    "    plt.ylabel('Etiqueta real')\n",
    "\n",
    "    plt.tight_layout()\n",
    "    plt.show()\n"
   ]
  },
  {
   "cell_type": "code",
   "execution_count": 3,
   "metadata": {},
   "outputs": [],
   "source": [
    "def calcula_metricas(confmat):\n",
    "    tn, fp, fn, tp = confmat.ravel()\n",
    "\n",
    "    acc = (tp + tn) / (tn + fp + fn + tp)\n",
    "    sen = tp / (tp + fn)\n",
    "    esp = tn / (tn + fp)\n",
    "    ppv = tp / (tp + fp)\n",
    "    fsc = 2 * (sen * ppv) / (sen + ppv)\n",
    "\n",
    "    print('ACC: ', acc)\n",
    "    print('SEN: ', sen)\n",
    "    print('ESP: ', esp)\n",
    "    print('PPV: ', ppv)\n",
    "    print('FSC: ', fsc)\n",
    "\n",
    "    plt.bar(range(5), [acc, sen, esp, ppv, fsc])\n",
    "    plt.xticks(range(5), ['ACC', 'SEN', 'ESP', 'PPV', 'FSC'])\n",
    "    plt.plot([-1, 6], [1, 1], color=(0.6, 0.6, 0.6), linestyle='--')\n",
    "    plt.xlim((-0.5, 4.5))\n",
    "    plt.ylim((0, 1.1))\n",
    "    plt.title('Métricas de Clasificación')\n",
    "    plt.show()\n"
   ]
  },
  {
   "cell_type": "markdown",
   "metadata": {},
   "source": [
    "# 1. Preparación de los datos : División train/test\n",
    "\n",
    "El objetivo es predecir el precio del Airbnb utilizando los datos disponibles."
   ]
  },
  {
   "cell_type": "code",
   "execution_count": 4,
   "metadata": {},
   "outputs": [
    {
     "name": "stdout",
     "output_type": "stream",
     "text": [
      "Dimensiones del dataset de training: (11824, 89)\n",
      "Dimensiones del dataset de test: (2956, 89)\n"
     ]
    }
   ],
   "source": [
    "import pandas as pd\n",
    "from sklearn.model_selection import train_test_split\n",
    "\n",
    "# Cargar el conjunto de datos completo\n",
    "ruta_archivo = r\"C:\\Users\\USER\\Desktop\\DayanaFrepost\\machine-learning\\Entrega Dayana\\airbnb-listings-extract.csv\"\n",
    "full_df = pd.read_csv(ruta_archivo, sep=';', decimal='.')\n",
    "\n",
    "# Dividir el conjunto de datos en train y test\n",
    "train, test = train_test_split(full_df, test_size=0.2, shuffle=True, random_state=0)\n",
    "\n",
    "# Imprimir dimensiones de los conjuntos de entrenamiento y prueba\n",
    "print(f'Dimensiones del dataset de training: {train.shape}')\n",
    "print(f'Dimensiones del dataset de test: {test.shape}')\n",
    "\n",
    "# Guardar los conjuntos de entrenamiento y prueba en archivos CSV\n",
    "train.to_csv(r'C:\\Users\\USER\\Desktop\\DayanaFrepost\\machine-learning\\Entrega Dayana\\train.csv', sep=';', decimal='.', index=False)\n",
    "test.to_csv(r'C:\\Users\\USER\\Desktop\\DayanaFrepost\\machine-learning\\Entrega Dayana\\test.csv', sep=';', decimal='.', index=False)\n",
    "\n"
   ]
  },
  {
   "cell_type": "markdown",
   "metadata": {},
   "source": [
    "# 2. Análisis exploratorio"
   ]
  },
  {
   "cell_type": "code",
   "execution_count": 5,
   "metadata": {},
   "outputs": [
    {
     "name": "stdout",
     "output_type": "stream",
     "text": [
      "Primeras filas del dataset:\n",
      "                                                                                0  \\\n",
      "ID                                                                        5994463   \n",
      "Listing Url                                  https://www.airbnb.com/rooms/5994463   \n",
      "Scrape ID                                                          20170407214119   \n",
      "Last Scraped                                                           2017-04-08   \n",
      "Name                                             PISO ATOCHA- FLAT NEAR ATOCHA  .   \n",
      "Summary                         Piso recién reformado cómoda habitación con ba...   \n",
      "Space                           Un piso muy cómodo en Jerónimos, una de las zo...   \n",
      "Description                     Piso recién reformado cómoda habitación con ba...   \n",
      "Experiences Offered                                                          none   \n",
      "Neighborhood Overview           El barrio de Jeronimos es un enclave tranquilo...   \n",
      "Notes                           Facilitamos guía de eventos y rutas turísticas...   \n",
      "Transit                         Excelente ubicación a tan solo 5 minutos andan...   \n",
      "Access                          La conexión a internet por fibra óptica 100 MB...   \n",
      "Interaction                     Recibimos personalmente a nuestros huéspedes y...   \n",
      "House Rules                     El apartamento se encuentra en un edificio res...   \n",
      "Thumbnail Url                   https://a0.muscache.com/im/pictures/74652419/f...   \n",
      "Medium Url                      https://a0.muscache.com/im/pictures/74652419/f...   \n",
      "Picture Url                     https://public.opendatasoft.com/api/v2/catalog...   \n",
      "XL Picture Url                  https://a0.muscache.com/im/pictures/74652419/f...   \n",
      "Host ID                                                                  31124866   \n",
      "Host URL                               https://www.airbnb.com/users/show/31124866   \n",
      "Host Name                                                                   Inava   \n",
      "Host Since                                                             2015-04-13   \n",
      "Host Location                           Arroyomolinos, Comunidad de Madrid, Spain   \n",
      "Host About                                                                    NaN   \n",
      "Host Response Time                                             within a few hours   \n",
      "Host Response Rate                                                          100.0   \n",
      "Host Acceptance Rate                                                          NaN   \n",
      "Host Thumbnail Url              https://a0.muscache.com/im/users/31124866/prof...   \n",
      "Host Picture Url                https://a0.muscache.com/im/users/31124866/prof...   \n",
      "Host Neighbourhood                                                      Jerónimos   \n",
      "Host Listings Count                                                           2.0   \n",
      "Host Total Listings Count                                                     2.0   \n",
      "Host Verifications                                 email,phone,reviews,work_email   \n",
      "Street                          Jerónimos, Madrid, Comunidad de Madrid 28014, ...   \n",
      "Neighbourhood                                                           Jerónimos   \n",
      "Neighbourhood Cleansed                                                  Jerónimos   \n",
      "Neighbourhood Group Cleansed                                               Retiro   \n",
      "City                                                                       Madrid   \n",
      "State                                                         Comunidad de Madrid   \n",
      "Zipcode                                                                     28014   \n",
      "Market                                                                     Madrid   \n",
      "Smart Location                                                      Madrid, Spain   \n",
      "Country Code                                                                   ES   \n",
      "Country                                                                     Spain   \n",
      "Latitude                                                                40.407732   \n",
      "Longitude                                                               -3.684819   \n",
      "Property Type                                                           Apartment   \n",
      "Room Type                                                         Entire home/apt   \n",
      "Accommodates                                                                    4   \n",
      "Bathrooms                                                                     1.0   \n",
      "Bedrooms                                                                      1.0   \n",
      "Beds                                                                          2.0   \n",
      "Bed Type                                                                 Real Bed   \n",
      "Amenities                       TV,Internet,Wireless Internet,Air conditioning...   \n",
      "Square Feet                                                                   NaN   \n",
      "Price                                                                        60.0   \n",
      "Weekly Price                                                                550.0   \n",
      "Monthly Price                                                              1250.0   \n",
      "Security Deposit                                                              NaN   \n",
      "Cleaning Fee                                                                 25.0   \n",
      "Guests Included                                                                 1   \n",
      "Extra People                                                                    0   \n",
      "Minimum Nights                                                                  2   \n",
      "Maximum Nights                                                               1125   \n",
      "Calendar Updated                                                      2 weeks ago   \n",
      "Has Availability                                                              NaN   \n",
      "Availability 30                                                                 9   \n",
      "Availability 60                                                                32   \n",
      "Availability 90                                                                52   \n",
      "Availability 365                                                              117   \n",
      "Calendar last Scraped                                                  2017-04-08   \n",
      "Number of Reviews                                                              12   \n",
      "First Review                                                           2015-04-26   \n",
      "Last Review                                                            2017-02-28   \n",
      "Review Scores Rating                                                         95.0   \n",
      "Review Scores Accuracy                                                        9.0   \n",
      "Review Scores Cleanliness                                                    10.0   \n",
      "Review Scores Checkin                                                        10.0   \n",
      "Review Scores Communication                                                  10.0   \n",
      "Review Scores Location                                                       10.0   \n",
      "Review Scores Value                                                           9.0   \n",
      "License                                                                       NaN   \n",
      "Jurisdiction Names                                                            NaN   \n",
      "Cancellation Policy                                                      moderate   \n",
      "Calculated host listings count                                                2.0   \n",
      "Reviews per Month                                                             0.5   \n",
      "Geolocation                                          40.4077318793,-3.68481869733   \n",
      "Features                        Host Has Profile Pic,Is Location Exact,Require...   \n",
      "\n",
      "                                                                                1  \\\n",
      "ID                                                                       14136180   \n",
      "Listing Url                                 https://www.airbnb.com/rooms/14136180   \n",
      "Scrape ID                                                          20170407214119   \n",
      "Last Scraped                                                           2017-04-08   \n",
      "Name                                                       The Palace Sol Madrid.   \n",
      "Summary                         Lugares de interés: Plaza Mayor, Plaza del Sol...   \n",
      "Space                           El apartamento dispone de un dormitorio indepe...   \n",
      "Description                     Lugares de interés: Plaza Mayor, Plaza del Sol...   \n",
      "Experiences Offered                                                          none   \n",
      "Neighborhood Overview           Situado en el corazón de Madrid, este apartame...   \n",
      "Notes                           Hora llegada: a partir de las 15:00 horas Hora...   \n",
      "Transit                         Acceso a todos los medios de trasporte, BUS, M...   \n",
      "Access                                                                        NaN   \n",
      "Interaction                     Estimado huésped estaremos disponible todo el ...   \n",
      "House Rules                     - Oír música con volumen moderado. Entrada a p...   \n",
      "Thumbnail Url                   https://a0.muscache.com/im/pictures/1565a3a9-2...   \n",
      "Medium Url                      https://a0.muscache.com/im/pictures/1565a3a9-2...   \n",
      "Picture Url                     https://public.opendatasoft.com/api/v2/catalog...   \n",
      "XL Picture Url                  https://a0.muscache.com/im/pictures/1565a3a9-2...   \n",
      "Host ID                                                                  85301317   \n",
      "Host URL                               https://www.airbnb.com/users/show/85301317   \n",
      "Host Name                                                 Apartamentos Turísticos   \n",
      "Host Since                                                             2016-07-22   \n",
      "Host Location                                  Madrid, Community of Madrid, Spain   \n",
      "Host About                      Somos una empresa  de turismo dedicada al aloj...   \n",
      "Host Response Time                                                 within an hour   \n",
      "Host Response Rate                                                          100.0   \n",
      "Host Acceptance Rate                                                          NaN   \n",
      "Host Thumbnail Url              https://a0.muscache.com/im/pictures/ff7ad016-4...   \n",
      "Host Picture Url                https://a0.muscache.com/im/pictures/ff7ad016-4...   \n",
      "Host Neighbourhood                                                            NaN   \n",
      "Host Listings Count                                                           1.0   \n",
      "Host Total Listings Count                                                     1.0   \n",
      "Host Verifications              email,phone,reviews,jumio,offline_government_i...   \n",
      "Street                                   Madrid, Comunidad de Madrid 28012, Spain   \n",
      "Neighbourhood                                                                 NaN   \n",
      "Neighbourhood Cleansed                                                        Sol   \n",
      "Neighbourhood Group Cleansed                                               Centro   \n",
      "City                                                                       Madrid   \n",
      "State                                                         Comunidad de Madrid   \n",
      "Zipcode                                                                     28012   \n",
      "Market                                                                     Madrid   \n",
      "Smart Location                                                      Madrid, Spain   \n",
      "Country Code                                                                   ES   \n",
      "Country                                                                     Spain   \n",
      "Latitude                                                                40.415802   \n",
      "Longitude                                                                -3.70534   \n",
      "Property Type                                                           Apartment   \n",
      "Room Type                                                         Entire home/apt   \n",
      "Accommodates                                                                    4   \n",
      "Bathrooms                                                                     1.0   \n",
      "Bedrooms                                                                      1.0   \n",
      "Beds                                                                          2.0   \n",
      "Bed Type                                                                 Real Bed   \n",
      "Amenities                       TV,Internet,Wireless Internet,Air conditioning...   \n",
      "Square Feet                                                                   NaN   \n",
      "Price                                                                        50.0   \n",
      "Weekly Price                                                                  NaN   \n",
      "Monthly Price                                                                 NaN   \n",
      "Security Deposit                                                              NaN   \n",
      "Cleaning Fee                                                                 15.0   \n",
      "Guests Included                                                                 1   \n",
      "Extra People                                                                    0   \n",
      "Minimum Nights                                                                  1   \n",
      "Maximum Nights                                                               1125   \n",
      "Calendar Updated                                                            today   \n",
      "Has Availability                                                              NaN   \n",
      "Availability 30                                                                15   \n",
      "Availability 60                                                                39   \n",
      "Availability 90                                                                64   \n",
      "Availability 365                                                              208   \n",
      "Calendar last Scraped                                                  2017-04-08   \n",
      "Number of Reviews                                                              20   \n",
      "First Review                                                           2016-08-05   \n",
      "Last Review                                                            2017-03-20   \n",
      "Review Scores Rating                                                         91.0   \n",
      "Review Scores Accuracy                                                        9.0   \n",
      "Review Scores Cleanliness                                                     9.0   \n",
      "Review Scores Checkin                                                        10.0   \n",
      "Review Scores Communication                                                  10.0   \n",
      "Review Scores Location                                                       10.0   \n",
      "Review Scores Value                                                          10.0   \n",
      "License                                                                       NaN   \n",
      "Jurisdiction Names                                                            NaN   \n",
      "Cancellation Policy                                                      flexible   \n",
      "Calculated host listings count                                                1.0   \n",
      "Reviews per Month                                                            2.43   \n",
      "Geolocation                                          40.4158022422,-3.70534037765   \n",
      "Features                        Host Has Profile Pic,Host Identity Verified,Re...   \n",
      "\n",
      "                                                                                2  \\\n",
      "ID                                                                       15520134   \n",
      "Listing Url                                 https://www.airbnb.com/rooms/15520134   \n",
      "Scrape ID                                                          20170407214119   \n",
      "Last Scraped                                                           2017-04-08   \n",
      "Name                               por persona la noche metro linea5 vista alegre   \n",
      "Summary                         我的房源靠近餐厅和餐饮、适合家庭的活动、公共交通。因为舒适的床、温馨、厨房、景观,您一定会爱...   \n",
      "Space                                                                         NaN   \n",
      "Description                     我的房源靠近餐厅和餐饮、适合家庭的活动、公共交通。因为舒适的床、温馨、厨房、景观,您一定会爱...   \n",
      "Experiences Offered                                                          none   \n",
      "Neighborhood Overview                                                         NaN   \n",
      "Notes                                                                         NaN   \n",
      "Transit                         羚羊Casa出发 --地铁Metro 5号线vsita alegre--opera转乘2号线...   \n",
      "Access                                                                        NaN   \n",
      "Interaction                                                                   NaN   \n",
      "House Rules                                                                   NaN   \n",
      "Thumbnail Url                   https://a0.muscache.com/im/pictures/05baad20-7...   \n",
      "Medium Url                      https://a0.muscache.com/im/pictures/05baad20-7...   \n",
      "Picture Url                     https://public.opendatasoft.com/api/v2/catalog...   \n",
      "XL Picture Url                  https://a0.muscache.com/im/pictures/05baad20-7...   \n",
      "Host ID                                                                  84213235   \n",
      "Host URL                               https://www.airbnb.com/users/show/84213235   \n",
      "Host Name                                                                       玲   \n",
      "Host Since                                                             2016-07-17   \n",
      "Host Location                                  Madrid, Community of Madrid, Spain   \n",
      "Host About                      Our hotel near the city center, next to the su...   \n",
      "Host Response Time                                                 within an hour   \n",
      "Host Response Rate                                                          100.0   \n",
      "Host Acceptance Rate                                                          NaN   \n",
      "Host Thumbnail Url              https://a0.muscache.com/im/pictures/a4185ec1-7...   \n",
      "Host Picture Url                https://a0.muscache.com/im/pictures/a4185ec1-7...   \n",
      "Host Neighbourhood                                                    Carabanchel   \n",
      "Host Listings Count                                                          16.0   \n",
      "Host Total Listings Count                                                    16.0   \n",
      "Host Verifications              email,phone,facebook,google,reviews,jumio,gove...   \n",
      "Street                          Carabanchel, Madrid, Comunidad de Madrid 28025...   \n",
      "Neighbourhood                                                         Carabanchel   \n",
      "Neighbourhood Cleansed                                               Vista Alegre   \n",
      "Neighbourhood Group Cleansed                                          Carabanchel   \n",
      "City                                                                       Madrid   \n",
      "State                                                         Comunidad de Madrid   \n",
      "Zipcode                                                                     28025   \n",
      "Market                                                                     Madrid   \n",
      "Smart Location                                                      Madrid, Spain   \n",
      "Country Code                                                                   ES   \n",
      "Country                                                                     Spain   \n",
      "Latitude                                                                40.389048   \n",
      "Longitude                                                               -3.740374   \n",
      "Property Type                                                           Apartment   \n",
      "Room Type                                                             Shared room   \n",
      "Accommodates                                                                    1   \n",
      "Bathrooms                                                                     1.5   \n",
      "Bedrooms                                                                      1.0   \n",
      "Beds                                                                          8.0   \n",
      "Bed Type                                                                 Real Bed   \n",
      "Amenities                       Internet,Wireless Internet,Wheelchair accessib...   \n",
      "Square Feet                                                                   NaN   \n",
      "Price                                                                        10.0   \n",
      "Weekly Price                                                                  NaN   \n",
      "Monthly Price                                                                 NaN   \n",
      "Security Deposit                                                              NaN   \n",
      "Cleaning Fee                                                                  5.0   \n",
      "Guests Included                                                                 1   \n",
      "Extra People                                                                    0   \n",
      "Minimum Nights                                                                  3   \n",
      "Maximum Nights                                                                 30   \n",
      "Calendar Updated                                                       a week ago   \n",
      "Has Availability                                                              NaN   \n",
      "Availability 30                                                                14   \n",
      "Availability 60                                                                44   \n",
      "Availability 90                                                                74   \n",
      "Availability 365                                                              140   \n",
      "Calendar last Scraped                                                  2017-04-08   \n",
      "Number of Reviews                                                               0   \n",
      "First Review                                                                  NaN   \n",
      "Last Review                                                                   NaN   \n",
      "Review Scores Rating                                                          NaN   \n",
      "Review Scores Accuracy                                                        NaN   \n",
      "Review Scores Cleanliness                                                     NaN   \n",
      "Review Scores Checkin                                                         NaN   \n",
      "Review Scores Communication                                                   NaN   \n",
      "Review Scores Location                                                        NaN   \n",
      "Review Scores Value                                                           NaN   \n",
      "License                                                                       NaN   \n",
      "Jurisdiction Names                                                            NaN   \n",
      "Cancellation Policy                                                      moderate   \n",
      "Calculated host listings count                                               16.0   \n",
      "Reviews per Month                                                             NaN   \n",
      "Geolocation                                          40.3890481626,-3.74037392557   \n",
      "Features                        Host Has Profile Pic,Host Identity Verified,Is...   \n",
      "\n",
      "                                                                                3  \\\n",
      "ID                                                                        8809721   \n",
      "Listing Url                                  https://www.airbnb.com/rooms/8809721   \n",
      "Scrape ID                                                          20170407214119   \n",
      "Last Scraped                                                           2017-04-08   \n",
      "Name                                          CITY CENTER JACINTO BENAVENTE ROOM4   \n",
      "Summary                         This stunning and amazig room is covered with ...   \n",
      "Space                                                                         NaN   \n",
      "Description                     This stunning and amazig room is covered with ...   \n",
      "Experiences Offered                                                          none   \n",
      "Neighborhood Overview                                                         NaN   \n",
      "Notes                                                                         NaN   \n",
      "Transit                                                                       NaN   \n",
      "Access                                                                        NaN   \n",
      "Interaction                                                                   NaN   \n",
      "House Rules                                                                   NaN   \n",
      "Thumbnail Url                   https://a0.muscache.com/im/pictures/111496270/...   \n",
      "Medium Url                      https://a0.muscache.com/im/pictures/111496270/...   \n",
      "Picture Url                     https://public.opendatasoft.com/api/v2/catalog...   \n",
      "XL Picture Url                  https://a0.muscache.com/im/pictures/111496270/...   \n",
      "Host ID                                                                  15258781   \n",
      "Host URL                               https://www.airbnb.com/users/show/15258781   \n",
      "Host Name                                                                Erasmo´S   \n",
      "Host Since                                                             2014-05-08   \n",
      "Host Location                                  Madrid, Community of Madrid, Spain   \n",
      "Host About                      Disfruta de tu habitación en el centro de Madr...   \n",
      "Host Response Time                                             within a few hours   \n",
      "Host Response Rate                                                          100.0   \n",
      "Host Acceptance Rate                                                          NaN   \n",
      "Host Thumbnail Url              https://a0.muscache.com/im/users/15258781/prof...   \n",
      "Host Picture Url                https://a0.muscache.com/im/users/15258781/prof...   \n",
      "Host Neighbourhood                                                       Justicia   \n",
      "Host Listings Count                                                         114.0   \n",
      "Host Total Listings Count                                                   114.0   \n",
      "Host Verifications                                 email,phone,reviews,work_email   \n",
      "Street                                   Madrid, Comunidad de Madrid 28012, Spain   \n",
      "Neighbourhood                                                                 NaN   \n",
      "Neighbourhood Cleansed                                                Embajadores   \n",
      "Neighbourhood Group Cleansed                                               Centro   \n",
      "City                                                                       Madrid   \n",
      "State                                                         Comunidad de Madrid   \n",
      "Zipcode                                                                     28012   \n",
      "Market                                                                     Madrid   \n",
      "Smart Location                                                      Madrid, Spain   \n",
      "Country Code                                                                   ES   \n",
      "Country                                                                     Spain   \n",
      "Latitude                                                                40.412814   \n",
      "Longitude                                                               -3.703052   \n",
      "Property Type                                                           Apartment   \n",
      "Room Type                                                            Private room   \n",
      "Accommodates                                                                    2   \n",
      "Bathrooms                                                                     3.0   \n",
      "Bedrooms                                                                      1.0   \n",
      "Beds                                                                          1.0   \n",
      "Bed Type                                                                 Real Bed   \n",
      "Amenities                       Wireless Internet,Kitchen,Smoking allowed,Heat...   \n",
      "Square Feet                                                                   NaN   \n",
      "Price                                                                        30.0   \n",
      "Weekly Price                                                                  NaN   \n",
      "Monthly Price                                                                 NaN   \n",
      "Security Deposit                                                              NaN   \n",
      "Cleaning Fee                                                                  NaN   \n",
      "Guests Included                                                                 1   \n",
      "Extra People                                                                    0   \n",
      "Minimum Nights                                                                 10   \n",
      "Maximum Nights                                                               1125   \n",
      "Calendar Updated                                                       3 days ago   \n",
      "Has Availability                                                              NaN   \n",
      "Availability 30                                                                 0   \n",
      "Availability 60                                                                 6   \n",
      "Availability 90                                                                36   \n",
      "Availability 365                                                              311   \n",
      "Calendar last Scraped                                                  2017-04-08   \n",
      "Number of Reviews                                                               0   \n",
      "First Review                                                                  NaN   \n",
      "Last Review                                                                   NaN   \n",
      "Review Scores Rating                                                          NaN   \n",
      "Review Scores Accuracy                                                        NaN   \n",
      "Review Scores Cleanliness                                                     NaN   \n",
      "Review Scores Checkin                                                         NaN   \n",
      "Review Scores Communication                                                   NaN   \n",
      "Review Scores Location                                                        NaN   \n",
      "Review Scores Value                                                           NaN   \n",
      "License                                                                       NaN   \n",
      "Jurisdiction Names                                                            NaN   \n",
      "Cancellation Policy                                                        strict   \n",
      "Calculated host listings count                                               97.0   \n",
      "Reviews per Month                                                             NaN   \n",
      "Geolocation                                          40.4128140929,-3.70305247638   \n",
      "Features                                    Host Has Profile Pic,Requires License   \n",
      "\n",
      "                                                                                4  \n",
      "ID                                                                        1162707  \n",
      "Listing Url                                  https://www.airbnb.com/rooms/1162707  \n",
      "Scrape ID                                                          20170407214119  \n",
      "Last Scraped                                                           2017-04-08  \n",
      "Name                                           NICE & BIG DOUBLE ROOM AT DOWNTOWN  \n",
      "Summary                                                                       NaN  \n",
      "Space                           We are a young couple; David (Spain) and Ana (...  \n",
      "Description                     We are a young couple; David (Spain) and Ana (...  \n",
      "Experiences Offered                                                          none  \n",
      "Neighborhood Overview                                                         NaN  \n",
      "Notes                                                                         NaN  \n",
      "Transit                                                                       NaN  \n",
      "Access                          WE CAN DO TO HOST COLLECTION SERVICE FROM THE ...  \n",
      "Interaction                                                                   NaN  \n",
      "House Rules                     In the apartment smoking is not allowed, but i...  \n",
      "Thumbnail Url                   https://a0.muscache.com/im/pictures/17487722/1...  \n",
      "Medium Url                      https://a0.muscache.com/im/pictures/17487722/1...  \n",
      "Picture Url                     https://public.opendatasoft.com/api/v2/catalog...  \n",
      "XL Picture Url                  https://a0.muscache.com/im/pictures/17487722/1...  \n",
      "Host ID                                                                   1706029  \n",
      "Host URL                                https://www.airbnb.com/users/show/1706029  \n",
      "Host Name                                                             David Y Ana  \n",
      "Host Since                                                             2012-02-06  \n",
      "Host Location                                  Madrid, Community of Madrid, Spain  \n",
      "Host About                      Somos una pareja de Español y Colombiana, amab...  \n",
      "Host Response Time                                                 within an hour  \n",
      "Host Response Rate                                                          100.0  \n",
      "Host Acceptance Rate                                                          NaN  \n",
      "Host Thumbnail Url              https://a0.muscache.com/im/users/1706029/profi...  \n",
      "Host Picture Url                https://a0.muscache.com/im/users/1706029/profi...  \n",
      "Host Neighbourhood                                                     Gaztambide  \n",
      "Host Listings Count                                                           2.0  \n",
      "Host Total Listings Count                                                     2.0  \n",
      "Host Verifications                                      email,phone,reviews,jumio  \n",
      "Street                                        Gaztambide, Madrid, 28 28015, Spain  \n",
      "Neighbourhood                                                          Gaztambide  \n",
      "Neighbourhood Cleansed                                                 Gaztambide  \n",
      "Neighbourhood Group Cleansed                                             Chamberí  \n",
      "City                                                                       Madrid  \n",
      "State                                                                          28  \n",
      "Zipcode                                                                     28015  \n",
      "Market                                                                     Madrid  \n",
      "Smart Location                                                      Madrid, Spain  \n",
      "Country Code                                                                   ES  \n",
      "Country                                                                     Spain  \n",
      "Latitude                                                                40.438631  \n",
      "Longitude                                                               -3.713716  \n",
      "Property Type                                                           Apartment  \n",
      "Room Type                                                            Private room  \n",
      "Accommodates                                                                    2  \n",
      "Bathrooms                                                                     1.0  \n",
      "Bedrooms                                                                      1.0  \n",
      "Beds                                                                          1.0  \n",
      "Bed Type                                                                 Real Bed  \n",
      "Amenities                       TV,Cable TV,Internet,Wireless Internet,Air con...  \n",
      "Square Feet                                                                   NaN  \n",
      "Price                                                                        32.0  \n",
      "Weekly Price                                                                  NaN  \n",
      "Monthly Price                                                                 NaN  \n",
      "Security Deposit                                                              NaN  \n",
      "Cleaning Fee                                                                  NaN  \n",
      "Guests Included                                                                 1  \n",
      "Extra People                                                                   10  \n",
      "Minimum Nights                                                                  1  \n",
      "Maximum Nights                                                               1125  \n",
      "Calendar Updated                                                       5 days ago  \n",
      "Has Availability                                                              NaN  \n",
      "Availability 30                                                                 7  \n",
      "Availability 60                                                                34  \n",
      "Availability 90                                                                62  \n",
      "Availability 365                                                              337  \n",
      "Calendar last Scraped                                                  2017-04-08  \n",
      "Number of Reviews                                                              97  \n",
      "First Review                                                           2013-06-07  \n",
      "Last Review                                                            2017-02-28  \n",
      "Review Scores Rating                                                         92.0  \n",
      "Review Scores Accuracy                                                        9.0  \n",
      "Review Scores Cleanliness                                                     9.0  \n",
      "Review Scores Checkin                                                         9.0  \n",
      "Review Scores Communication                                                  10.0  \n",
      "Review Scores Location                                                        9.0  \n",
      "Review Scores Value                                                           9.0  \n",
      "License                                                                       NaN  \n",
      "Jurisdiction Names                                                            NaN  \n",
      "Cancellation Policy                                                        strict  \n",
      "Calculated host listings count                                                2.0  \n",
      "Reviews per Month                                                            2.08  \n",
      "Geolocation                                          40.4386311984,-3.71371613279  \n",
      "Features                        Host Has Profile Pic,Host Identity Verified,Is...  \n",
      "\n",
      "Descripción del dataset:\n",
      "                 ID     Scrape ID       Host ID  Host Response Rate  \\\n",
      "count  1.182400e+04  1.182400e+04  1.182400e+04        10317.000000   \n",
      "mean   1.025308e+07  2.017038e+13  3.588310e+07           94.803722   \n",
      "std    5.566485e+06  5.505346e+08  3.411993e+07           15.247078   \n",
      "min    1.986400e+04  2.016010e+13  1.745300e+04            0.000000   \n",
      "25%    5.510692e+06  2.017041e+13  6.855490e+06          100.000000   \n",
      "50%    1.125754e+07  2.017041e+13  2.454770e+07          100.000000   \n",
      "75%    1.531982e+07  2.017041e+13  5.431096e+07          100.000000   \n",
      "max    1.858361e+07  2.017062e+13  1.247534e+08          100.000000   \n",
      "\n",
      "       Host Listings Count  Host Total Listings Count      Latitude  \\\n",
      "count         11821.000000               11821.000000  11824.000000   \n",
      "mean             12.754420                  12.754420     40.491628   \n",
      "std              34.578895                  34.578895      4.701030   \n",
      "min               0.000000                   0.000000    -37.851182   \n",
      "25%               1.000000                   1.000000     40.409758   \n",
      "50%               2.000000                   2.000000     40.419331   \n",
      "75%               6.000000                   6.000000     40.430778   \n",
      "max             519.000000                 519.000000     55.966912   \n",
      "\n",
      "          Longitude  Accommodates     Bathrooms     Bedrooms          Beds  \\\n",
      "count  11824.000000  11824.000000  11780.000000  11804.00000  11787.000000   \n",
      "mean      -3.776863      3.277486      1.285229      1.34429      2.049122   \n",
      "std       14.014695      2.093973      0.664691      0.90518      1.623489   \n",
      "min     -123.124429      1.000000      0.000000      0.00000      1.000000   \n",
      "25%       -3.707538      2.000000      1.000000      1.00000      1.000000   \n",
      "50%       -3.700763      3.000000      1.000000      1.00000      2.000000   \n",
      "75%       -3.683917      4.000000      1.000000      2.00000      2.000000   \n",
      "max      153.371427     16.000000      8.000000     10.00000     16.000000   \n",
      "\n",
      "       Square Feet         Price  Weekly Price  Monthly Price  \\\n",
      "count   474.000000  11809.000000   2881.000000    2869.000000   \n",
      "mean    396.489451     73.712592    378.437348    1432.390728   \n",
      "std     671.125823     71.624844    194.751472    1236.992934   \n",
      "min       0.000000      9.000000     70.000000     250.000000   \n",
      "25%       0.000000     34.000000    220.000000     720.000000   \n",
      "50%      90.000000     55.000000    350.000000    1200.000000   \n",
      "75%     624.000000     87.000000    500.000000    1750.000000   \n",
      "max    6997.000000    969.000000    999.000000   25000.000000   \n",
      "\n",
      "       Security Deposit  Cleaning Fee  Guests Included  Extra People  \\\n",
      "count       5052.000000   6974.000000     11824.000000  11824.000000   \n",
      "mean         189.312154     32.073129         1.581614      7.637601   \n",
      "std          116.011858     31.278032         1.160518     12.373491   \n",
      "min            0.000000      0.000000         0.000000      0.000000   \n",
      "25%          100.000000     15.000000         1.000000      0.000000   \n",
      "50%          150.000000     25.000000         1.000000      0.000000   \n",
      "75%          200.000000     40.000000         2.000000     15.000000   \n",
      "max          990.000000    662.000000        16.000000    500.000000   \n",
      "\n",
      "       Minimum Nights  Maximum Nights  Availability 30  Availability 60  \\\n",
      "count    11824.000000    11824.000000     11824.000000     11824.000000   \n",
      "mean         3.109946      961.732070         8.949002        22.949256   \n",
      "std         13.427477     9387.640642         9.340334        19.762734   \n",
      "min          1.000000        1.000000         0.000000         0.000000   \n",
      "25%          1.000000      365.000000         0.000000         4.000000   \n",
      "50%          2.000000     1125.000000         6.000000        20.000000   \n",
      "75%          3.000000     1125.000000        14.000000        38.000000   \n",
      "max       1125.000000  1000000.000000        30.000000        60.000000   \n",
      "\n",
      "       Availability 90  Availability 365  Number of Reviews  \\\n",
      "count     11824.000000      11824.000000       11824.000000   \n",
      "mean         39.803958        202.217185          22.664834   \n",
      "std          29.663314        128.006830          38.092338   \n",
      "min           0.000000          0.000000           0.000000   \n",
      "25%          11.000000         78.000000           1.000000   \n",
      "50%          38.000000        240.000000           7.000000   \n",
      "75%          65.000000        319.000000          27.000000   \n",
      "max          90.000000        365.000000         356.000000   \n",
      "\n",
      "       Review Scores Rating  Review Scores Accuracy  \\\n",
      "count           9163.000000             9143.000000   \n",
      "mean              91.628179                9.410040   \n",
      "std                9.137614                0.938013   \n",
      "min               20.000000                2.000000   \n",
      "25%               89.000000                9.000000   \n",
      "50%               94.000000               10.000000   \n",
      "75%               98.000000               10.000000   \n",
      "max              100.000000               10.000000   \n",
      "\n",
      "       Review Scores Cleanliness  Review Scores Checkin  \\\n",
      "count                9148.000000            9136.000000   \n",
      "mean                    9.320726               9.623905   \n",
      "std                     1.004472               0.804050   \n",
      "min                     2.000000               2.000000   \n",
      "25%                     9.000000               9.000000   \n",
      "50%                    10.000000              10.000000   \n",
      "75%                    10.000000              10.000000   \n",
      "max                    10.000000              10.000000   \n",
      "\n",
      "       Review Scores Communication  Review Scores Location  \\\n",
      "count                  9147.000000             9133.000000   \n",
      "mean                      9.647863                9.534655   \n",
      "std                       0.765450                0.770421   \n",
      "min                       2.000000                2.000000   \n",
      "25%                       9.000000                9.000000   \n",
      "50%                      10.000000               10.000000   \n",
      "75%                      10.000000               10.000000   \n",
      "max                      10.000000               10.000000   \n",
      "\n",
      "       Review Scores Value  Calculated host listings count  Reviews per Month  \n",
      "count          9132.000000                    11820.000000        9285.000000  \n",
      "mean              9.211345                        9.615313           1.873326  \n",
      "std               0.963131                       23.795580           1.869157  \n",
      "min               2.000000                        1.000000           0.020000  \n",
      "25%               9.000000                        1.000000           0.450000  \n",
      "50%               9.000000                        2.000000           1.210000  \n",
      "75%              10.000000                        5.000000           2.780000  \n",
      "max              10.000000                      145.000000          17.210000  \n",
      "\n",
      "Tipos de datos de las columnas:\n",
      "ID                                  int64\n",
      "Listing Url                        object\n",
      "Scrape ID                           int64\n",
      "Last Scraped                       object\n",
      "Name                               object\n",
      "Summary                            object\n",
      "Space                              object\n",
      "Description                        object\n",
      "Experiences Offered                object\n",
      "Neighborhood Overview              object\n",
      "Notes                              object\n",
      "Transit                            object\n",
      "Access                             object\n",
      "Interaction                        object\n",
      "House Rules                        object\n",
      "Thumbnail Url                      object\n",
      "Medium Url                         object\n",
      "Picture Url                        object\n",
      "XL Picture Url                     object\n",
      "Host ID                             int64\n",
      "Host URL                           object\n",
      "Host Name                          object\n",
      "Host Since                         object\n",
      "Host Location                      object\n",
      "Host About                         object\n",
      "Host Response Time                 object\n",
      "Host Response Rate                float64\n",
      "Host Acceptance Rate               object\n",
      "Host Thumbnail Url                 object\n",
      "Host Picture Url                   object\n",
      "Host Neighbourhood                 object\n",
      "Host Listings Count               float64\n",
      "Host Total Listings Count         float64\n",
      "Host Verifications                 object\n",
      "Street                             object\n",
      "Neighbourhood                      object\n",
      "Neighbourhood Cleansed             object\n",
      "Neighbourhood Group Cleansed       object\n",
      "City                               object\n",
      "State                              object\n",
      "Zipcode                            object\n",
      "Market                             object\n",
      "Smart Location                     object\n",
      "Country Code                       object\n",
      "Country                            object\n",
      "Latitude                          float64\n",
      "Longitude                         float64\n",
      "Property Type                      object\n",
      "Room Type                          object\n",
      "Accommodates                        int64\n",
      "Bathrooms                         float64\n",
      "Bedrooms                          float64\n",
      "Beds                              float64\n",
      "Bed Type                           object\n",
      "Amenities                          object\n",
      "Square Feet                       float64\n",
      "Price                             float64\n",
      "Weekly Price                      float64\n",
      "Monthly Price                     float64\n",
      "Security Deposit                  float64\n",
      "Cleaning Fee                      float64\n",
      "Guests Included                     int64\n",
      "Extra People                        int64\n",
      "Minimum Nights                      int64\n",
      "Maximum Nights                      int64\n",
      "Calendar Updated                   object\n",
      "Has Availability                   object\n",
      "Availability 30                     int64\n",
      "Availability 60                     int64\n",
      "Availability 90                     int64\n",
      "Availability 365                    int64\n",
      "Calendar last Scraped              object\n",
      "Number of Reviews                   int64\n",
      "First Review                       object\n",
      "Last Review                        object\n",
      "Review Scores Rating              float64\n",
      "Review Scores Accuracy            float64\n",
      "Review Scores Cleanliness         float64\n",
      "Review Scores Checkin             float64\n",
      "Review Scores Communication       float64\n",
      "Review Scores Location            float64\n",
      "Review Scores Value               float64\n",
      "License                            object\n",
      "Jurisdiction Names                 object\n",
      "Cancellation Policy                object\n",
      "Calculated host listings count    float64\n",
      "Reviews per Month                 float64\n",
      "Geolocation                        object\n",
      "Features                           object\n",
      "dtype: object\n"
     ]
    }
   ],
   "source": [
    "# Cargar el conjunto de entrenamiento\n",
    "data = pd.read_csv(r'C:\\Users\\USER\\Desktop\\DayanaFrepost\\machine-learning\\Entrega Dayana\\train.csv', sep=';', decimal='.')\n",
    "\n",
    "# a. Head, describe, dtypes\n",
    "print(\"Primeras filas del dataset:\")\n",
    "print(data.head().T)\n",
    "\n",
    "print(\"\\nDescripción del dataset:\")\n",
    "print(data.describe())\n",
    "\n",
    "print(\"\\nTipos de datos de las columnas:\")\n",
    "print(data.dtypes)\n",
    "\n",
    "\n",
    "\n"
   ]
  },
  {
   "cell_type": "code",
   "execution_count": 6,
   "metadata": {},
   "outputs": [
    {
     "data": {
      "image/png": "[encoded data removed]",
      "text/plain": [
       "<Figure size 1000x600 with 1 Axes>"
      ]
     },
     "metadata": {},
     "output_type": "display_data"
    },
    {
     "data": {
      "image/png": "[encoded data removed]",
      "text/plain": [
       "<Figure size 800x600 with 1 Axes>"
      ]
     },
     "metadata": {},
     "output_type": "display_data"
    }
   ],
   "source": [
    "# b. Outliers \n",
    "\n",
    "import matplotlib.pyplot as plt\n",
    "import seaborn as sns\n",
    "\n",
    "# Visualizar la distribución de la variable objetivo\n",
    "plt.figure(figsize=(10, 6))\n",
    "sns.histplot(data['Price'], kde=True, color='blue')\n",
    "plt.title('Distribución de la Variable Objetivo (Price)')\n",
    "plt.xlabel('Price')\n",
    "plt.ylabel('Frecuencia')\n",
    "plt.show()\n",
    "\n",
    "# Crear un boxplot para detectar outliers\n",
    "plt.figure(figsize=(8, 6))\n",
    "sns.boxplot(x=data['Price'], color='green')\n",
    "plt.title('Boxplot de la Variable Objetivo (Price)')\n",
    "plt.xlabel('Price')\n",
    "plt.show()\n"
   ]
  },
  {
   "cell_type": "code",
   "execution_count": 7,
   "metadata": {},
   "outputs": [
    {
     "name": "stdout",
     "output_type": "stream",
     "text": [
      "count    11809.000000\n",
      "mean        73.712592\n",
      "std         71.624844\n",
      "min          9.000000\n",
      "25%         34.000000\n",
      "50%         55.000000\n",
      "75%         87.000000\n",
      "max        969.000000\n",
      "Name: Price, dtype: float64\n"
     ]
    }
   ],
   "source": [
    "# Obtener estadísticas descriptivas de la variable objetivo\n",
    "target_variable = 'Price'\n",
    "target_stats = data[target_variable].describe()\n",
    "\n",
    "# Mostrar las estadísticas en una tabla\n",
    "print(target_stats)\n",
    "\n"
   ]
  },
  {
   "cell_type": "markdown",
   "metadata": {},
   "source": [
    "Comentarios :Los precios varían significativamente, desde un mínimo de 9, hasta un máximo de 969, con una media de aproximadamente 73.71  y una desviación estándar de 71.62. Esto sugiere que hay una amplia variabilidad en los precios de los Airbnb.  \n",
    "\n",
    "La mayoria de los precios estan ubicados en menos de 100.\n",
    "\n",
    "Mas del 60% son columnas que nos son enteros, son objetos. \n"
   ]
  },
  {
   "cell_type": "code",
   "execution_count": 8,
   "metadata": {},
   "outputs": [
    {
     "data": {
      "image/png": "[encoded data removed]",
      "text/plain": [
       "<Figure size 1200x800 with 2 Axes>"
      ]
     },
     "metadata": {},
     "output_type": "display_data"
    }
   ],
   "source": [
    "# c. Correlación\n",
    "correlation_matrix = data.corr()\n",
    "plt.figure(figsize=(12, 8))\n",
    "plt.title(\"Matriz de correlación\")\n",
    "# Visualización la matriz de correlación como un mapa de calor\n",
    "plt.imshow(correlation_matrix, cmap='coolwarm', interpolation='nearest')\n",
    "plt.colorbar()\n",
    "plt.xticks(range(len(correlation_matrix.columns)), correlation_matrix.columns, rotation=90)\n",
    "plt.yticks(range(len(correlation_matrix.columns)), correlation_matrix.columns)\n",
    "plt.show()\n"
   ]
  },
  {
   "cell_type": "markdown",
   "metadata": {},
   "source": [
    "Observaciones :  Se encuentran mas relacionados Host Response Rate- Host Total Listings count- Calculated hostListings count ; Accommodates- Barhrooms- Bedrooms-Beds, Square Feet, Price, cleaning fee, Reviews."
   ]
  },
  {
   "cell_type": "code",
   "execution_count": 9,
   "metadata": {},
   "outputs": [
    {
     "name": "stdout",
     "output_type": "stream",
     "text": [
      "Correlaciones con 'Price':\n",
      "                          Variable  Correlation with Price  \\\n",
      "13                           Price                1.000000   \n",
      "14                    Weekly Price                0.880469   \n",
      "15                   Monthly Price                0.827679   \n",
      "17                    Cleaning Fee                0.674445   \n",
      "8                     Accommodates                0.528380   \n",
      "10                        Bedrooms                0.492316   \n",
      "12                     Square Feet                0.450778   \n",
      "11                            Beds                0.438198   \n",
      "16                Security Deposit                0.403080   \n",
      "9                        Bathrooms                0.379419   \n",
      "18                 Guests Included                0.296850   \n",
      "5        Host Total Listings Count                0.229585   \n",
      "4              Host Listings Count                0.229585   \n",
      "34  Calculated host listings count                0.223787   \n",
      "22                 Availability 30                0.106314   \n",
      "19                    Extra People                0.104672   \n",
      "32          Review Scores Location                0.102186   \n",
      "35               Reviews per Month               -0.092907   \n",
      "29       Review Scores Cleanliness                0.078627   \n",
      "23                 Availability 60                0.064655   \n",
      "27            Review Scores Rating                0.061904   \n",
      "28          Review Scores Accuracy                0.059643   \n",
      "25                Availability 365                0.057354   \n",
      "1                        Scrape ID               -0.056473   \n",
      "26               Number of Reviews               -0.055834   \n",
      "2                          Host ID               -0.052158   \n",
      "0                               ID               -0.040946   \n",
      "24                 Availability 90                0.032864   \n",
      "20                  Minimum Nights                0.029632   \n",
      "33             Review Scores Value                0.015110   \n",
      "6                         Latitude               -0.013221   \n",
      "30           Review Scores Checkin               -0.011208   \n",
      "3               Host Response Rate                0.005843   \n",
      "31     Review Scores Communication                0.005208   \n",
      "7                        Longitude                0.004976   \n",
      "21                  Maximum Nights                0.000851   \n",
      "\n",
      "    Absolute Correlation  \n",
      "13              1.000000  \n",
      "14              0.880469  \n",
      "15              0.827679  \n",
      "17              0.674445  \n",
      "8               0.528380  \n",
      "10              0.492316  \n",
      "12              0.450778  \n",
      "11              0.438198  \n",
      "16              0.403080  \n",
      "9               0.379419  \n",
      "18              0.296850  \n",
      "5               0.229585  \n",
      "4               0.229585  \n",
      "34              0.223787  \n",
      "22              0.106314  \n",
      "19              0.104672  \n",
      "32              0.102186  \n",
      "35              0.092907  \n",
      "29              0.078627  \n",
      "23              0.064655  \n",
      "27              0.061904  \n",
      "28              0.059643  \n",
      "25              0.057354  \n",
      "1               0.056473  \n",
      "26              0.055834  \n",
      "2               0.052158  \n",
      "0               0.040946  \n",
      "24              0.032864  \n",
      "20              0.029632  \n",
      "33              0.015110  \n",
      "6               0.013221  \n",
      "30              0.011208  \n",
      "3               0.005843  \n",
      "31              0.005208  \n",
      "7               0.004976  \n",
      "21              0.000851  \n"
     ]
    }
   ],
   "source": [
    "# Calcular la matriz de correlación\n",
    "correlation_matrix = data.corr()\n",
    "\n",
    "# Seleccionar la fila que corresponde a la correlación con 'Price'\n",
    "price_correlations = correlation_matrix['Price']\n",
    "\n",
    "# Crear un DataFrame con las correlaciones\n",
    "correlation_df = pd.DataFrame({'Variable': price_correlations.index, 'Correlation with Price': price_correlations.values})\n",
    "\n",
    "# Ordenar el DataFrame por el valor absoluto de la correlación en orden descendente\n",
    "correlation_df['Absolute Correlation'] = abs(correlation_df['Correlation with Price'])\n",
    "correlation_df = correlation_df.sort_values(by='Absolute Correlation', ascending=False)\n",
    "\n",
    "# Mostrar las correlaciones en una tabla\n",
    "print(\"Correlaciones con 'Price':\")\n",
    "print(correlation_df)\n"
   ]
  },
  {
   "cell_type": "markdown",
   "metadata": {},
   "source": [
    "#Comentarios:  Columnas como  \n",
    "                Availability 365               \n",
    "                       Scrape ID              \n",
    "               Number of Reviews               \n",
    "                         Host ID                \n",
    "                              ID               \n",
    "                 Availability 90               \n",
    "                  Minimum Nights                \n",
    "             Review Scores Value                      \n",
    "           Review Scores Checkin                \n",
    "              Host Response Rate               \n",
    "     Review Scores Communication               \n",
    "                  Maximum Nights\n",
    "\n",
    "Tienen muy poca relación con el precio y al parecer no influyen para el estudio de éste. Las guardo y elimino."
   ]
  },
  {
   "cell_type": "markdown",
   "metadata": {},
   "source": [
    "##  3. Preprocesamiento de variables\n",
    "\n"
   ]
  },
  {
   "cell_type": "markdown",
   "metadata": {},
   "source": [
    "1. Eliminación de variables mediante selección inicial: información sobre direcciones url, multiplicacion del precio por noche: precio por semana, o por mes; columnas con información repetida; que no aporten información sobre la propiedad, y las columnas tambien que guardan muy poca relación con el precio, se eliminaran."
   ]
  },
  {
   "cell_type": "markdown",
   "metadata": {},
   "source": [
    "<div class = \"alert alert-success\"> 1"
   ]
  },
  {
   "cell_type": "code",
   "execution_count": 10,
   "metadata": {},
   "outputs": [
    {
     "name": "stdout",
     "output_type": "stream",
     "text": [
      "Dimensiones del conjunto de entrenamiento después de eliminar columnas: (11824, 47)\n"
     ]
    }
   ],
   "source": [
    "columnas_a_eliminar = [\n",
    "    'ID', 'Listing Url', 'Scrape ID', 'Last Scraped', 'House Rules',\n",
    "    'Thumbnail Url', 'Medium Url', 'Picture Url', 'XL Picture Url',\n",
    "    'Host ID', 'Host URL', 'Host Name', 'Host Since', 'Host Location',\n",
    "    'Host About', 'Host Response Time', 'Host Response Rate',\n",
    "    'Host Acceptance Rate', 'Host Thumbnail Url', 'Host Picture Url',\n",
    "    'Host Neighbourhood', 'Host Listings Count', 'Host Total Listings Count',\n",
    "    'Host Verifications', 'Extra People', 'Minimum Nights', 'Maximum Nights',\n",
    "    'Calendar Updated', 'Has Availability', 'Availability 30',\n",
    "    'Availability 60', 'Availability 90', 'Availability 365',\n",
    "    'Calendar last Scraped', 'First Review', 'Last Review', 'License',\n",
    "    'Jurisdiction Names', 'Calculated host listings count', 'Reviews per Month',\n",
    "    'Geolocation', 'Features' \n",
    "]\n",
    "\n",
    "# Eliminar las columnas del conjunto de entrenamiento\n",
    "train = train.drop(columns=columnas_a_eliminar)\n",
    "\n",
    "# Verificar las nuevas dimensiones de los conjuntos de entrenamiento\n",
    "print(f'Dimensiones del conjunto de entrenamiento después de eliminar columnas: {train.shape}')\n",
    "\n",
    "# Guardar los conjuntos de entrenamiento y prueba en archivos CSV\n",
    "train.to_csv(r'C:\\Users\\USER\\Desktop\\DayanaFrepost\\machine-learning\\Entrega Dayana\\train.csv', sep=';', decimal='.', index=False)"
   ]
  },
  {
   "cell_type": "code",
   "execution_count": 11,
   "metadata": {},
   "outputs": [
    {
     "name": "stdout",
     "output_type": "stream",
     "text": [
      "                                                                          2472   \\\n",
      "Name                                           PISO ATOCHA- FLAT NEAR ATOCHA  .   \n",
      "Summary                       Piso recién reformado cómoda habitación con ba...   \n",
      "Space                         Un piso muy cómodo en Jerónimos, una de las zo...   \n",
      "Description                   Piso recién reformado cómoda habitación con ba...   \n",
      "Experiences Offered                                                        none   \n",
      "Neighborhood Overview         El barrio de Jeronimos es un enclave tranquilo...   \n",
      "Notes                         Facilitamos guía de eventos y rutas turísticas...   \n",
      "Transit                       Excelente ubicación a tan solo 5 minutos andan...   \n",
      "Access                        La conexión a internet por fibra óptica 100 MB...   \n",
      "Interaction                   Recibimos personalmente a nuestros huéspedes y...   \n",
      "Street                        Jerónimos, Madrid, Comunidad de Madrid 28014, ...   \n",
      "Neighbourhood                                                         Jerónimos   \n",
      "Neighbourhood Cleansed                                                Jerónimos   \n",
      "Neighbourhood Group Cleansed                                             Retiro   \n",
      "City                                                                     Madrid   \n",
      "State                                                       Comunidad de Madrid   \n",
      "Zipcode                                                                   28014   \n",
      "Market                                                                   Madrid   \n",
      "Smart Location                                                    Madrid, Spain   \n",
      "Country Code                                                                 ES   \n",
      "Country                                                                   Spain   \n",
      "Latitude                                                              40.407732   \n",
      "Longitude                                                             -3.684819   \n",
      "Property Type                                                         Apartment   \n",
      "Room Type                                                       Entire home/apt   \n",
      "Accommodates                                                                  4   \n",
      "Bathrooms                                                                   1.0   \n",
      "Bedrooms                                                                    1.0   \n",
      "Beds                                                                        2.0   \n",
      "Bed Type                                                               Real Bed   \n",
      "Amenities                     TV,Internet,Wireless Internet,Air conditioning...   \n",
      "Square Feet                                                                 NaN   \n",
      "Price                                                                      60.0   \n",
      "Weekly Price                                                              550.0   \n",
      "Monthly Price                                                            1250.0   \n",
      "Security Deposit                                                            NaN   \n",
      "Cleaning Fee                                                               25.0   \n",
      "Guests Included                                                               1   \n",
      "Number of Reviews                                                            12   \n",
      "Review Scores Rating                                                       95.0   \n",
      "Review Scores Accuracy                                                      9.0   \n",
      "Review Scores Cleanliness                                                  10.0   \n",
      "Review Scores Checkin                                                      10.0   \n",
      "Review Scores Communication                                                10.0   \n",
      "Review Scores Location                                                     10.0   \n",
      "Review Scores Value                                                         9.0   \n",
      "Cancellation Policy                                                    moderate   \n",
      "\n",
      "                                                                          12299  \\\n",
      "Name                                                     The Palace Sol Madrid.   \n",
      "Summary                       Lugares de interés: Plaza Mayor, Plaza del Sol...   \n",
      "Space                         El apartamento dispone de un dormitorio indepe...   \n",
      "Description                   Lugares de interés: Plaza Mayor, Plaza del Sol...   \n",
      "Experiences Offered                                                        none   \n",
      "Neighborhood Overview         Situado en el corazón de Madrid, este apartame...   \n",
      "Notes                         Hora llegada: a partir de las 15:00 horas Hora...   \n",
      "Transit                       Acceso a todos los medios de trasporte, BUS, M...   \n",
      "Access                                                                      NaN   \n",
      "Interaction                   Estimado huésped estaremos disponible todo el ...   \n",
      "Street                                 Madrid, Comunidad de Madrid 28012, Spain   \n",
      "Neighbourhood                                                               NaN   \n",
      "Neighbourhood Cleansed                                                      Sol   \n",
      "Neighbourhood Group Cleansed                                             Centro   \n",
      "City                                                                     Madrid   \n",
      "State                                                       Comunidad de Madrid   \n",
      "Zipcode                                                                   28012   \n",
      "Market                                                                   Madrid   \n",
      "Smart Location                                                    Madrid, Spain   \n",
      "Country Code                                                                 ES   \n",
      "Country                                                                   Spain   \n",
      "Latitude                                                              40.415802   \n",
      "Longitude                                                              -3.70534   \n",
      "Property Type                                                         Apartment   \n",
      "Room Type                                                       Entire home/apt   \n",
      "Accommodates                                                                  4   \n",
      "Bathrooms                                                                   1.0   \n",
      "Bedrooms                                                                    1.0   \n",
      "Beds                                                                        2.0   \n",
      "Bed Type                                                               Real Bed   \n",
      "Amenities                     TV,Internet,Wireless Internet,Air conditioning...   \n",
      "Square Feet                                                                 NaN   \n",
      "Price                                                                      50.0   \n",
      "Weekly Price                                                                NaN   \n",
      "Monthly Price                                                               NaN   \n",
      "Security Deposit                                                            NaN   \n",
      "Cleaning Fee                                                               15.0   \n",
      "Guests Included                                                               1   \n",
      "Number of Reviews                                                            20   \n",
      "Review Scores Rating                                                       91.0   \n",
      "Review Scores Accuracy                                                      9.0   \n",
      "Review Scores Cleanliness                                                   9.0   \n",
      "Review Scores Checkin                                                      10.0   \n",
      "Review Scores Communication                                                10.0   \n",
      "Review Scores Location                                                     10.0   \n",
      "Review Scores Value                                                        10.0   \n",
      "Cancellation Policy                                                    flexible   \n",
      "\n",
      "                                                                          4024   \\\n",
      "Name                             por persona la noche metro linea5 vista alegre   \n",
      "Summary                       我的房源靠近餐厅和餐饮、适合家庭的活动、公共交通。因为舒适的床、温馨、厨房、景观,您一定会爱...   \n",
      "Space                                                                       NaN   \n",
      "Description                   我的房源靠近餐厅和餐饮、适合家庭的活动、公共交通。因为舒适的床、温馨、厨房、景观,您一定会爱...   \n",
      "Experiences Offered                                                        none   \n",
      "Neighborhood Overview                                                       NaN   \n",
      "Notes                                                                       NaN   \n",
      "Transit                       羚羊Casa出发 --地铁Metro 5号线vsita alegre--opera转乘2号线...   \n",
      "Access                                                                      NaN   \n",
      "Interaction                                                                 NaN   \n",
      "Street                        Carabanchel, Madrid, Comunidad de Madrid 28025...   \n",
      "Neighbourhood                                                       Carabanchel   \n",
      "Neighbourhood Cleansed                                             Vista Alegre   \n",
      "Neighbourhood Group Cleansed                                        Carabanchel   \n",
      "City                                                                     Madrid   \n",
      "State                                                       Comunidad de Madrid   \n",
      "Zipcode                                                                   28025   \n",
      "Market                                                                   Madrid   \n",
      "Smart Location                                                    Madrid, Spain   \n",
      "Country Code                                                                 ES   \n",
      "Country                                                                   Spain   \n",
      "Latitude                                                              40.389048   \n",
      "Longitude                                                             -3.740374   \n",
      "Property Type                                                         Apartment   \n",
      "Room Type                                                           Shared room   \n",
      "Accommodates                                                                  1   \n",
      "Bathrooms                                                                   1.5   \n",
      "Bedrooms                                                                    1.0   \n",
      "Beds                                                                        8.0   \n",
      "Bed Type                                                               Real Bed   \n",
      "Amenities                     Internet,Wireless Internet,Wheelchair accessib...   \n",
      "Square Feet                                                                 NaN   \n",
      "Price                                                                      10.0   \n",
      "Weekly Price                                                                NaN   \n",
      "Monthly Price                                                               NaN   \n",
      "Security Deposit                                                            NaN   \n",
      "Cleaning Fee                                                                5.0   \n",
      "Guests Included                                                               1   \n",
      "Number of Reviews                                                             0   \n",
      "Review Scores Rating                                                        NaN   \n",
      "Review Scores Accuracy                                                      NaN   \n",
      "Review Scores Cleanliness                                                   NaN   \n",
      "Review Scores Checkin                                                       NaN   \n",
      "Review Scores Communication                                                 NaN   \n",
      "Review Scores Location                                                      NaN   \n",
      "Review Scores Value                                                         NaN   \n",
      "Cancellation Policy                                                    moderate   \n",
      "\n",
      "                                                                          12692  \\\n",
      "Name                                        CITY CENTER JACINTO BENAVENTE ROOM4   \n",
      "Summary                       This stunning and amazig room is covered with ...   \n",
      "Space                                                                       NaN   \n",
      "Description                   This stunning and amazig room is covered with ...   \n",
      "Experiences Offered                                                        none   \n",
      "Neighborhood Overview                                                       NaN   \n",
      "Notes                                                                       NaN   \n",
      "Transit                                                                     NaN   \n",
      "Access                                                                      NaN   \n",
      "Interaction                                                                 NaN   \n",
      "Street                                 Madrid, Comunidad de Madrid 28012, Spain   \n",
      "Neighbourhood                                                               NaN   \n",
      "Neighbourhood Cleansed                                              Embajadores   \n",
      "Neighbourhood Group Cleansed                                             Centro   \n",
      "City                                                                     Madrid   \n",
      "State                                                       Comunidad de Madrid   \n",
      "Zipcode                                                                   28012   \n",
      "Market                                                                   Madrid   \n",
      "Smart Location                                                    Madrid, Spain   \n",
      "Country Code                                                                 ES   \n",
      "Country                                                                   Spain   \n",
      "Latitude                                                              40.412814   \n",
      "Longitude                                                             -3.703052   \n",
      "Property Type                                                         Apartment   \n",
      "Room Type                                                          Private room   \n",
      "Accommodates                                                                  2   \n",
      "Bathrooms                                                                   3.0   \n",
      "Bedrooms                                                                    1.0   \n",
      "Beds                                                                        1.0   \n",
      "Bed Type                                                               Real Bed   \n",
      "Amenities                     Wireless Internet,Kitchen,Smoking allowed,Heat...   \n",
      "Square Feet                                                                 NaN   \n",
      "Price                                                                      30.0   \n",
      "Weekly Price                                                                NaN   \n",
      "Monthly Price                                                               NaN   \n",
      "Security Deposit                                                            NaN   \n",
      "Cleaning Fee                                                                NaN   \n",
      "Guests Included                                                               1   \n",
      "Number of Reviews                                                             0   \n",
      "Review Scores Rating                                                        NaN   \n",
      "Review Scores Accuracy                                                      NaN   \n",
      "Review Scores Cleanliness                                                   NaN   \n",
      "Review Scores Checkin                                                       NaN   \n",
      "Review Scores Communication                                                 NaN   \n",
      "Review Scores Location                                                      NaN   \n",
      "Review Scores Value                                                         NaN   \n",
      "Cancellation Policy                                                      strict   \n",
      "\n",
      "                                                                          11228  \n",
      "Name                                         NICE & BIG DOUBLE ROOM AT DOWNTOWN  \n",
      "Summary                                                                     NaN  \n",
      "Space                         We are a young couple; David (Spain) and Ana (...  \n",
      "Description                   We are a young couple; David (Spain) and Ana (...  \n",
      "Experiences Offered                                                        none  \n",
      "Neighborhood Overview                                                       NaN  \n",
      "Notes                                                                       NaN  \n",
      "Transit                                                                     NaN  \n",
      "Access                        WE CAN DO TO HOST COLLECTION SERVICE FROM THE ...  \n",
      "Interaction                                                                 NaN  \n",
      "Street                                      Gaztambide, Madrid, 28 28015, Spain  \n",
      "Neighbourhood                                                        Gaztambide  \n",
      "Neighbourhood Cleansed                                               Gaztambide  \n",
      "Neighbourhood Group Cleansed                                           Chamberí  \n",
      "City                                                                     Madrid  \n",
      "State                                                                        28  \n",
      "Zipcode                                                                   28015  \n",
      "Market                                                                   Madrid  \n",
      "Smart Location                                                    Madrid, Spain  \n",
      "Country Code                                                                 ES  \n",
      "Country                                                                   Spain  \n",
      "Latitude                                                              40.438631  \n",
      "Longitude                                                             -3.713716  \n",
      "Property Type                                                         Apartment  \n",
      "Room Type                                                          Private room  \n",
      "Accommodates                                                                  2  \n",
      "Bathrooms                                                                   1.0  \n",
      "Bedrooms                                                                    1.0  \n",
      "Beds                                                                        1.0  \n",
      "Bed Type                                                               Real Bed  \n",
      "Amenities                     TV,Cable TV,Internet,Wireless Internet,Air con...  \n",
      "Square Feet                                                                 NaN  \n",
      "Price                                                                      32.0  \n",
      "Weekly Price                                                                NaN  \n",
      "Monthly Price                                                               NaN  \n",
      "Security Deposit                                                            NaN  \n",
      "Cleaning Fee                                                                NaN  \n",
      "Guests Included                                                               1  \n",
      "Number of Reviews                                                            97  \n",
      "Review Scores Rating                                                       92.0  \n",
      "Review Scores Accuracy                                                      9.0  \n",
      "Review Scores Cleanliness                                                   9.0  \n",
      "Review Scores Checkin                                                       9.0  \n",
      "Review Scores Communication                                                10.0  \n",
      "Review Scores Location                                                      9.0  \n",
      "Review Scores Value                                                         9.0  \n",
      "Cancellation Policy                                                      strict  \n"
     ]
    }
   ],
   "source": [
    "print(train.head().T)"
   ]
  },
  {
   "cell_type": "markdown",
   "metadata": {},
   "source": [
    "3.2 Escoger la columnas con solo texto y otras que requieren análisis especial y por ahora no ayudan a la predicción de precio."
   ]
  },
  {
   "cell_type": "markdown",
   "metadata": {},
   "source": [
    "<div class = \"alert alert-success\"> 2"
   ]
  },
  {
   "cell_type": "code",
   "execution_count": 12,
   "metadata": {},
   "outputs": [
    {
     "name": "stdout",
     "output_type": "stream",
     "text": [
      "Dimensiones del conjunto de entrenamiento después de eliminar columnas de texto: (11824, 37)\n"
     ]
    }
   ],
   "source": [
    "# Lista de columnas a eliminar por tener demasiado texto (requieren análisis NLP)\n",
    "columnas_texto = [\n",
    "    'Name', 'Summary', 'Space', 'Description', 'Experiences Offered',\n",
    "    'Neighborhood Overview', 'Notes', 'Transit', 'Access', 'Interaction'\n",
    "]\n",
    "\n",
    "# Eliminar las columnas de texto del conjunto de entrenamiento\n",
    "train = train.drop(columns=columnas_texto)\n",
    "\n",
    "# Verificar las nuevas dimensiones del conjunto de entrenamiento\n",
    "print(f'Dimensiones del conjunto de entrenamiento después de eliminar columnas de texto: {train.shape}')\n",
    "\n",
    "# Guardar los conjuntos de entrenamiento y prueba en archivos CSV\n",
    "train.to_csv(r'C:\\Users\\USER\\Desktop\\DayanaFrepost\\machine-learning\\Entrega Dayana\\train.csv', sep=';', decimal='.', index=False)\n"
   ]
  },
  {
   "cell_type": "markdown",
   "metadata": {},
   "source": [
    "3.3 Sigo buscando columnas que no aportan: Valores NAN - NULOS"
   ]
  },
  {
   "cell_type": "markdown",
   "metadata": {},
   "source": [
    "<div class = \"alert alert-success\">3"
   ]
  },
  {
   "cell_type": "code",
   "execution_count": 13,
   "metadata": {},
   "outputs": [
    {
     "name": "stdout",
     "output_type": "stream",
     "text": [
      "Columna: Square Feet, NaN Count: 11350\n",
      "Columna: Monthly Price, NaN Count: 8955\n",
      "Columna: Weekly Price, NaN Count: 8943\n",
      "Columna: Security Deposit, NaN Count: 6772\n",
      "Columna: Cleaning Fee, NaN Count: 4850\n",
      "Columna: Neighbourhood, NaN Count: 4159\n",
      "Columna: Review Scores Value, NaN Count: 2692\n",
      "Columna: Review Scores Location, NaN Count: 2691\n",
      "Columna: Review Scores Checkin, NaN Count: 2688\n",
      "Columna: Review Scores Accuracy, NaN Count: 2681\n",
      "Columna: Review Scores Communication, NaN Count: 2677\n",
      "Columna: Review Scores Cleanliness, NaN Count: 2676\n",
      "Columna: Review Scores Rating, NaN Count: 2661\n",
      "Columna: Neighbourhood Group Cleansed, NaN Count: 818\n",
      "Columna: Zipcode, NaN Count: 398\n",
      "Columna: Amenities, NaN Count: 141\n",
      "Columna: State, NaN Count: 119\n"
     ]
    }
   ],
   "source": [
    "# Calcular la cantidad de NaN en cada columna del conjunto de entrenamiento\n",
    "nan_counts_train = train.isna().sum()\n",
    "\n",
    "# Establecer un umbral\n",
    "threshold = 100\n",
    "\n",
    "\n",
    "# Filtrar las columnas con un número específico de NaN\n",
    "columns_with_many_nan_train = nan_counts_train[nan_counts_train > threshold].index.tolist()\n",
    "\n",
    "# Ordenar las columnas por la cantidad de NaN en orden descendente (de mayor a menor)\n",
    "columns_with_many_nan_train = sorted(columns_with_many_nan_train, key=lambda x: nan_counts_train[x], reverse=True)\n",
    "\n",
    "# Iterar a través de las columnas ordenadas y mostrar sus nombres y cantidades\n",
    "for column_name in columns_with_many_nan_train:\n",
    "    nan_count = nan_counts_train[column_name]\n",
    "    print(f'Columna: {column_name}, NaN Count: {nan_count}')\n",
    "\n"
   ]
  },
  {
   "cell_type": "markdown",
   "metadata": {},
   "source": [
    "## Comentarios:\n",
    "Hay demasiados NAN en Square Feet, aunque inicialmente parecía que esta variable podría aportar información, por la falta de información se opta por eliminarla.\n",
    "\n",
    "Referente a las columnas Monthly y WeeklY las pocas filas con información, pueden modificar la predicción , asi que tambien se eliminan.\n",
    "\n",
    "Elimino Neighbourhood --> Estudiar su eliminacion ya que  el 50% de los datos contienen NA, lo eliminé y se presentó una reduccion en el dataset y habrian otras columnas relacionadas que pueden aportar informacion.  Decido revisar mas adelante.\n",
    "\n",
    "\n",
    "Valores de Security Deposit, y Cleaning Feet afectan directamente en el precio --> NO elimino, y debo solucionar.\n"
   ]
  },
  {
   "cell_type": "markdown",
   "metadata": {},
   "source": [
    "<div class = \"alert alert-success\"> 4"
   ]
  },
  {
   "cell_type": "code",
   "execution_count": 14,
   "metadata": {},
   "outputs": [],
   "source": [
    "columns_with_na_to_remove = [\n",
    "    'Review Scores Location', 'Review Scores Value',\n",
    "    'Review Scores Checkin', 'Review Scores Accuracy', 'Review Scores Communication',\n",
    "    'Review Scores Cleanliness', 'Review Scores Rating', 'Square Feet', \n",
    "    'Monthly Price', 'Weekly Price'\n",
    "]\n",
    "\n",
    "train.drop(columns=columns_with_na_to_remove, inplace=True)\n",
    "\n",
    "# Guardar el conjunto de entrenamiento actualizado en un archivo CSV\n",
    "train.to_csv(r'C:\\Users\\USER\\Desktop\\DayanaFrepost\\machine-learning\\Entrega Dayana\\train.csv', sep=';', decimal='.', index=False)\n",
    "\n"
   ]
  },
  {
   "cell_type": "code",
   "execution_count": 15,
   "metadata": {},
   "outputs": [
    {
     "name": "stdout",
     "output_type": "stream",
     "text": [
      "Index(['Street', 'Neighbourhood', 'Neighbourhood Cleansed',\n",
      "       'Neighbourhood Group Cleansed', 'City', 'State', 'Zipcode', 'Market',\n",
      "       'Smart Location', 'Country Code', 'Country', 'Latitude', 'Longitude',\n",
      "       'Property Type', 'Room Type', 'Accommodates', 'Bathrooms', 'Bedrooms',\n",
      "       'Beds', 'Bed Type', 'Amenities', 'Price', 'Security Deposit',\n",
      "       'Cleaning Fee', 'Guests Included', 'Number of Reviews',\n",
      "       'Cancellation Policy'],\n",
      "      dtype='object')\n",
      "Dimensiones del conjunto de entrenamiento después de eliminar columnas: (11824, 27)\n"
     ]
    }
   ],
   "source": [
    "print(train.columns)\n",
    "# Verificar las nuevas dimensiones de los conjuntos de entrenamiento\n",
    "\n",
    "print(f'Dimensiones del conjunto de entrenamiento después de eliminar columnas: {train.shape}')\n"
   ]
  },
  {
   "cell_type": "markdown",
   "metadata": {},
   "source": [
    "Verificar otras correlaciones:"
   ]
  },
  {
   "cell_type": "code",
   "execution_count": 16,
   "metadata": {},
   "outputs": [
    {
     "data": {
      "image/png": "[encoded data removed]",
      "text/plain": [
       "<Figure size 1200x1000 with 2 Axes>"
      ]
     },
     "metadata": {},
     "output_type": "display_data"
    }
   ],
   "source": [
    "import pandas as pd\n",
    "import numpy as np\n",
    "import matplotlib.pyplot as plt\n",
    "import seaborn as sns\n",
    "\n",
    "# Cargar train\n",
    "train = pd.read_csv(r'C:\\Users\\USER\\Desktop\\DayanaFrepost\\machine-learning\\Entrega Dayana\\train.csv', sep=';', decimal='.')\n",
    "\n",
    "# Calcular la matriz de correlación (excluyendo la columna 'Price')\n",
    "corr = np.abs(train.drop(['Price'], axis=1).corr())\n",
    "\n",
    "# Generar una máscara para la parte superior del triángulo\n",
    "mask = np.zeros_like(corr, dtype=np.bool)\n",
    "mask[np.triu_indices_from(mask)] = True\n",
    "\n",
    "# Configurar la figura de Matplotlib\n",
    "f, ax = plt.subplots(figsize=(12, 10))\n",
    "\n",
    "# Dibujar el mapa de calor \n",
    "sns.heatmap(corr, mask=mask, vmin=0.0, vmax=1.0, center=0.5,\n",
    "            linewidths=0.1, cmap=\"coolwarm\", cbar_kws={\"shrink\": 0.8})\n",
    "\n",
    "plt.show()\n",
    "\n"
   ]
  },
  {
   "cell_type": "code",
   "execution_count": 17,
   "metadata": {},
   "outputs": [
    {
     "name": "stdout",
     "output_type": "stream",
     "text": [
      "                                     Correlation\n",
      "Latitude          Latitude              1.000000\n",
      "Longitude         Longitude             1.000000\n",
      "Guests Included   Guests Included       1.000000\n",
      "Cleaning Fee      Cleaning Fee          1.000000\n",
      "Security Deposit  Security Deposit      1.000000\n",
      "Price             Price                 1.000000\n",
      "Bedrooms          Bedrooms              1.000000\n",
      "Bathrooms         Bathrooms             1.000000\n",
      "Accommodates      Accommodates          1.000000\n",
      "Beds              Beds                  1.000000\n",
      "Number of Reviews Number of Reviews     1.000000\n",
      "Accommodates      Beds                  0.837461\n",
      "Beds              Accommodates          0.837461\n",
      "                  Bedrooms              0.728059\n",
      "Bedrooms          Beds                  0.728059\n",
      "Accommodates      Bedrooms              0.722825\n",
      "Bedrooms          Accommodates          0.722825\n",
      "Cleaning Fee      Price                 0.674445\n",
      "Price             Cleaning Fee          0.674445\n",
      "Guests Included   Accommodates          0.563493\n",
      "Accommodates      Guests Included       0.563493\n",
      "                  Price                 0.528380\n",
      "Price             Accommodates          0.528380\n",
      "Bedrooms          Bathrooms             0.523241\n",
      "Bathrooms         Bedrooms              0.523241\n",
      "Longitude         Latitude              0.493585\n",
      "Latitude          Longitude             0.493585\n",
      "Price             Bedrooms              0.492316\n",
      "Bedrooms          Price                 0.492316\n",
      "Beds              Bathrooms             0.478647\n",
      "Bathrooms         Beds                  0.478647\n",
      "Security Deposit  Cleaning Fee          0.465960\n",
      "Cleaning Fee      Security Deposit      0.465960\n",
      "Guests Included   Beds                  0.454490\n",
      "Beds              Guests Included       0.454490\n",
      "Price             Beds                  0.438198\n",
      "Beds              Price                 0.438198\n",
      "Guests Included   Bedrooms              0.437503\n",
      "Bedrooms          Guests Included       0.437503\n",
      "Bathrooms         Accommodates          0.432238\n",
      "Accommodates      Bathrooms             0.432238\n",
      "Security Deposit  Price                 0.403080\n",
      "Price             Security Deposit      0.403080\n",
      "Bathrooms         Price                 0.379419\n",
      "Price             Bathrooms             0.379419\n",
      "Cleaning Fee      Bedrooms              0.376105\n",
      "Bedrooms          Cleaning Fee          0.376105\n",
      "Cleaning Fee      Accommodates          0.369567\n",
      "Accommodates      Cleaning Fee          0.369567\n",
      "Beds              Cleaning Fee          0.336296\n",
      "Cleaning Fee      Beds                  0.336296\n",
      "Bathrooms         Cleaning Fee          0.330133\n",
      "Cleaning Fee      Bathrooms             0.330133\n",
      "Guests Included   Price                 0.296850\n",
      "Price             Guests Included       0.296850\n",
      "Bathrooms         Guests Included       0.245236\n",
      "Guests Included   Bathrooms             0.245236\n",
      "Bedrooms          Security Deposit      0.225654\n",
      "Security Deposit  Bedrooms              0.225654\n",
      "Bathrooms         Security Deposit      0.211006\n",
      "Security Deposit  Bathrooms             0.211006\n",
      "                  Accommodates          0.189783\n",
      "Accommodates      Security Deposit      0.189783\n",
      "Cleaning Fee      Guests Included       0.182995\n",
      "Guests Included   Cleaning Fee          0.182995\n",
      "Beds              Security Deposit      0.181243\n",
      "Security Deposit  Beds                  0.181243\n",
      "Number of Reviews Security Deposit      0.126585\n",
      "Security Deposit  Number of Reviews     0.126585\n",
      "Guests Included   Number of Reviews     0.099124\n",
      "Number of Reviews Guests Included       0.099124\n",
      "Guests Included   Security Deposit      0.092777\n",
      "Security Deposit  Guests Included       0.092777\n",
      "Cleaning Fee      Number of Reviews     0.078997\n",
      "Number of Reviews Cleaning Fee          0.078997\n",
      "                  Bathrooms             0.077081\n",
      "Bathrooms         Number of Reviews     0.077081\n",
      "Accommodates      Number of Reviews     0.057135\n",
      "Number of Reviews Accommodates          0.057135\n",
      "Price             Number of Reviews     0.055834\n",
      "Number of Reviews Price                 0.055834\n",
      "                  Bedrooms              0.046992\n",
      "Bedrooms          Number of Reviews     0.046992\n",
      "Longitude         Bedrooms              0.039596\n",
      "Bedrooms          Longitude             0.039596\n",
      "Beds              Longitude             0.034312\n",
      "Longitude         Beds                  0.034312\n",
      "Security Deposit  Latitude              0.028193\n",
      "Latitude          Security Deposit      0.028193\n",
      "Longitude         Security Deposit      0.028160\n",
      "Security Deposit  Longitude             0.028160\n",
      "Bathrooms         Longitude             0.027128\n",
      "Longitude         Bathrooms             0.027128\n",
      "                  Cleaning Fee          0.027124\n",
      "Cleaning Fee      Longitude             0.027124\n",
      "Number of Reviews Longitude             0.023857\n",
      "Longitude         Number of Reviews     0.023857\n",
      "Number of Reviews Latitude              0.018777\n",
      "Latitude          Number of Reviews     0.018777\n",
      "Longitude         Accommodates          0.018478\n",
      "Accommodates      Longitude             0.018478\n",
      "Beds              Number of Reviews     0.016142\n",
      "Number of Reviews Beds                  0.016142\n",
      "Price             Latitude              0.013221\n",
      "Latitude          Price                 0.013221\n",
      "Bedrooms          Latitude              0.010066\n",
      "Latitude          Bedrooms              0.010066\n",
      "Guests Included   Longitude             0.007025\n",
      "Longitude         Guests Included       0.007025\n",
      "Latitude          Accommodates          0.006899\n",
      "Accommodates      Latitude              0.006899\n",
      "Bathrooms         Latitude              0.006339\n",
      "Latitude          Bathrooms             0.006339\n",
      "                  Cleaning Fee          0.005110\n",
      "Cleaning Fee      Latitude              0.005110\n",
      "Price             Longitude             0.004976\n",
      "Longitude         Price                 0.004976\n",
      "Latitude          Guests Included       0.004710\n",
      "Guests Included   Latitude              0.004710\n",
      "Beds              Latitude              0.000534\n",
      "Latitude          Beds                  0.000534\n"
     ]
    }
   ],
   "source": [
    "import pandas as pd\n",
    "\n",
    "# Cargar train\n",
    "train = pd.read_csv(r'C:\\Users\\USER\\Desktop\\DayanaFrepost\\machine-learning\\Entrega Dayana\\train.csv', sep=';', decimal='.')\n",
    "\n",
    "# Calcular la matriz de correlación (excluyendo la columna 'Price')\n",
    "correlation_matrix = train.corr().abs()\n",
    "\n",
    "# Desplegar la matriz de correlación ordenada de mayor a menor\n",
    "sorted_correlation = correlation_matrix.unstack().sort_values(ascending=False)\n",
    "\n",
    "# Crear un DataFrame a partir de los valores ordenados\n",
    "sorted_correlation_df = pd.DataFrame(sorted_correlation, columns=['Correlation'])\n",
    "\n",
    "# Mostrar la tabla de correlación ordenada\n",
    "print(sorted_correlation_df)\n",
    "\n"
   ]
  },
  {
   "cell_type": "markdown",
   "metadata": {},
   "source": [
    "# Escojo Variables con mucha corelacion\n",
    "Accommodates      Beds                  0.837461 --> conservo beds"
   ]
  },
  {
   "cell_type": "markdown",
   "metadata": {},
   "source": [
    "<div class = \"alert alert-success\">5"
   ]
  },
  {
   "cell_type": "code",
   "execution_count": 18,
   "metadata": {},
   "outputs": [],
   "source": [
    "# Eliminar la columna \"Accommodates\"\n",
    "train.drop(columns=['Accommodates'], inplace=True)\n",
    "\n",
    "# Guardar el conjunto de entrenamiento actualizado en un archivo CSV\n",
    "train.to_csv(r'C:\\Users\\USER\\Desktop\\DayanaFrepost\\machine-learning\\Entrega Dayana\\train.csv', sep=';', decimal='.', index=False)\n"
   ]
  },
  {
   "cell_type": "code",
   "execution_count": 19,
   "metadata": {},
   "outputs": [
    {
     "name": "stdout",
     "output_type": "stream",
     "text": [
      "(11824, 26)\n",
      "                                                                              0  \\\n",
      "Street                        Jerónimos, Madrid, Comunidad de Madrid 28014, ...   \n",
      "Neighbourhood                                                         Jerónimos   \n",
      "Neighbourhood Cleansed                                                Jerónimos   \n",
      "Neighbourhood Group Cleansed                                             Retiro   \n",
      "City                                                                     Madrid   \n",
      "State                                                       Comunidad de Madrid   \n",
      "Zipcode                                                                   28014   \n",
      "Market                                                                   Madrid   \n",
      "Smart Location                                                    Madrid, Spain   \n",
      "Country Code                                                                 ES   \n",
      "Country                                                                   Spain   \n",
      "Latitude                                                              40.407732   \n",
      "Longitude                                                             -3.684819   \n",
      "Property Type                                                         Apartment   \n",
      "Room Type                                                       Entire home/apt   \n",
      "Bathrooms                                                                   1.0   \n",
      "Bedrooms                                                                    1.0   \n",
      "Beds                                                                        2.0   \n",
      "Bed Type                                                               Real Bed   \n",
      "Amenities                     TV,Internet,Wireless Internet,Air conditioning...   \n",
      "Price                                                                      60.0   \n",
      "Security Deposit                                                            NaN   \n",
      "Cleaning Fee                                                               25.0   \n",
      "Guests Included                                                               1   \n",
      "Number of Reviews                                                            12   \n",
      "Cancellation Policy                                                    moderate   \n",
      "\n",
      "                                                                              1  \\\n",
      "Street                                 Madrid, Comunidad de Madrid 28012, Spain   \n",
      "Neighbourhood                                                               NaN   \n",
      "Neighbourhood Cleansed                                                      Sol   \n",
      "Neighbourhood Group Cleansed                                             Centro   \n",
      "City                                                                     Madrid   \n",
      "State                                                       Comunidad de Madrid   \n",
      "Zipcode                                                                   28012   \n",
      "Market                                                                   Madrid   \n",
      "Smart Location                                                    Madrid, Spain   \n",
      "Country Code                                                                 ES   \n",
      "Country                                                                   Spain   \n",
      "Latitude                                                              40.415802   \n",
      "Longitude                                                              -3.70534   \n",
      "Property Type                                                         Apartment   \n",
      "Room Type                                                       Entire home/apt   \n",
      "Bathrooms                                                                   1.0   \n",
      "Bedrooms                                                                    1.0   \n",
      "Beds                                                                        2.0   \n",
      "Bed Type                                                               Real Bed   \n",
      "Amenities                     TV,Internet,Wireless Internet,Air conditioning...   \n",
      "Price                                                                      50.0   \n",
      "Security Deposit                                                            NaN   \n",
      "Cleaning Fee                                                               15.0   \n",
      "Guests Included                                                               1   \n",
      "Number of Reviews                                                            20   \n",
      "Cancellation Policy                                                    flexible   \n",
      "\n",
      "                                                                              2  \\\n",
      "Street                        Carabanchel, Madrid, Comunidad de Madrid 28025...   \n",
      "Neighbourhood                                                       Carabanchel   \n",
      "Neighbourhood Cleansed                                             Vista Alegre   \n",
      "Neighbourhood Group Cleansed                                        Carabanchel   \n",
      "City                                                                     Madrid   \n",
      "State                                                       Comunidad de Madrid   \n",
      "Zipcode                                                                   28025   \n",
      "Market                                                                   Madrid   \n",
      "Smart Location                                                    Madrid, Spain   \n",
      "Country Code                                                                 ES   \n",
      "Country                                                                   Spain   \n",
      "Latitude                                                              40.389048   \n",
      "Longitude                                                             -3.740374   \n",
      "Property Type                                                         Apartment   \n",
      "Room Type                                                           Shared room   \n",
      "Bathrooms                                                                   1.5   \n",
      "Bedrooms                                                                    1.0   \n",
      "Beds                                                                        8.0   \n",
      "Bed Type                                                               Real Bed   \n",
      "Amenities                     Internet,Wireless Internet,Wheelchair accessib...   \n",
      "Price                                                                      10.0   \n",
      "Security Deposit                                                            NaN   \n",
      "Cleaning Fee                                                                5.0   \n",
      "Guests Included                                                               1   \n",
      "Number of Reviews                                                             0   \n",
      "Cancellation Policy                                                    moderate   \n",
      "\n",
      "                                                                              3  \\\n",
      "Street                                 Madrid, Comunidad de Madrid 28012, Spain   \n",
      "Neighbourhood                                                               NaN   \n",
      "Neighbourhood Cleansed                                              Embajadores   \n",
      "Neighbourhood Group Cleansed                                             Centro   \n",
      "City                                                                     Madrid   \n",
      "State                                                       Comunidad de Madrid   \n",
      "Zipcode                                                                   28012   \n",
      "Market                                                                   Madrid   \n",
      "Smart Location                                                    Madrid, Spain   \n",
      "Country Code                                                                 ES   \n",
      "Country                                                                   Spain   \n",
      "Latitude                                                              40.412814   \n",
      "Longitude                                                             -3.703052   \n",
      "Property Type                                                         Apartment   \n",
      "Room Type                                                          Private room   \n",
      "Bathrooms                                                                   3.0   \n",
      "Bedrooms                                                                    1.0   \n",
      "Beds                                                                        1.0   \n",
      "Bed Type                                                               Real Bed   \n",
      "Amenities                     Wireless Internet,Kitchen,Smoking allowed,Heat...   \n",
      "Price                                                                      30.0   \n",
      "Security Deposit                                                            NaN   \n",
      "Cleaning Fee                                                                NaN   \n",
      "Guests Included                                                               1   \n",
      "Number of Reviews                                                             0   \n",
      "Cancellation Policy                                                      strict   \n",
      "\n",
      "                                                                              4  \n",
      "Street                                      Gaztambide, Madrid, 28 28015, Spain  \n",
      "Neighbourhood                                                        Gaztambide  \n",
      "Neighbourhood Cleansed                                               Gaztambide  \n",
      "Neighbourhood Group Cleansed                                           Chamberí  \n",
      "City                                                                     Madrid  \n",
      "State                                                                        28  \n",
      "Zipcode                                                                   28015  \n",
      "Market                                                                   Madrid  \n",
      "Smart Location                                                    Madrid, Spain  \n",
      "Country Code                                                                 ES  \n",
      "Country                                                                   Spain  \n",
      "Latitude                                                              40.438631  \n",
      "Longitude                                                             -3.713716  \n",
      "Property Type                                                         Apartment  \n",
      "Room Type                                                          Private room  \n",
      "Bathrooms                                                                   1.0  \n",
      "Bedrooms                                                                    1.0  \n",
      "Beds                                                                        1.0  \n",
      "Bed Type                                                               Real Bed  \n",
      "Amenities                     TV,Cable TV,Internet,Wireless Internet,Air con...  \n",
      "Price                                                                      32.0  \n",
      "Security Deposit                                                            NaN  \n",
      "Cleaning Fee                                                                NaN  \n",
      "Guests Included                                                               1  \n",
      "Number of Reviews                                                            97  \n",
      "Cancellation Policy                                                      strict  \n"
     ]
    }
   ],
   "source": [
    "print(train.shape)\n",
    "\n",
    "print(train.head().T)\n",
    "\n",
    "\n"
   ]
  },
  {
   "cell_type": "markdown",
   "metadata": {},
   "source": [
    "Hay muchas columnas con informacion que se refiere a lo mismo:  Madrid y Spain,  busco reducirlas.\n",
    "    \n",
    "Columna bed type?\n",
    "Number of Reviews?\n",
    "Cancellation Policy?\n"
   ]
  },
  {
   "cell_type": "markdown",
   "metadata": {},
   "source": [
    "<div class = \"alert alert-success\">6"
   ]
  },
  {
   "cell_type": "code",
   "execution_count": 20,
   "metadata": {},
   "outputs": [],
   "source": [
    "columns_to_remove_Location = ['Street', 'State', 'Market', 'Smart Location', 'Country', 'Zipcode']\n",
    "train.drop(columns=columns_to_remove_Location, inplace=True)\n",
    "\n",
    "# Guardar el conjunto de entrenamiento actualizado en un archivo CSV\n",
    "train.to_csv(r'C:\\Users\\USER\\Desktop\\DayanaFrepost\\machine-learning\\Entrega Dayana\\train.csv', sep=';', decimal='.', index=False)\n"
   ]
  },
  {
   "cell_type": "code",
   "execution_count": 21,
   "metadata": {},
   "outputs": [
    {
     "name": "stdout",
     "output_type": "stream",
     "text": [
      "(11824, 20)\n"
     ]
    }
   ],
   "source": [
    "print(train.shape)"
   ]
  },
  {
   "cell_type": "markdown",
   "metadata": {},
   "source": [
    "#Revisar Neighbourhood"
   ]
  },
  {
   "cell_type": "markdown",
   "metadata": {},
   "source": [
    "<div class = \"alert alert-success\">7"
   ]
  },
  {
   "cell_type": "code",
   "execution_count": 22,
   "metadata": {},
   "outputs": [
    {
     "name": "stdout",
     "output_type": "stream",
     "text": [
      "  Neighbourhood Neighbourhood Cleansed Neighbourhood Group Cleansed\n",
      "0     Jerónimos              Jerónimos                       Retiro\n",
      "1           NaN                    Sol                       Centro\n",
      "2   Carabanchel           Vista Alegre                  Carabanchel\n",
      "3           NaN            Embajadores                       Centro\n",
      "4    Gaztambide             Gaztambide                     Chamberí\n"
     ]
    }
   ],
   "source": [
    "\n",
    "TheNeighbourhoods_T = train[['Neighbourhood', 'Neighbourhood Cleansed', 'Neighbourhood Group Cleansed']]\n",
    "print(TheNeighbourhoods_T.head())\n"
   ]
  },
  {
   "cell_type": "code",
   "execution_count": 23,
   "metadata": {},
   "outputs": [
    {
     "name": "stdout",
     "output_type": "stream",
     "text": [
      "El dataframe tiene un total de 11824 filas.\n",
      "Valores faltantes por columna:\n",
      "Neighbourhood                   4159\n",
      "Neighbourhood Cleansed             0\n",
      "Neighbourhood Group Cleansed     818\n",
      "dtype: int64\n"
     ]
    }
   ],
   "source": [
    "print(f'El dataframe tiene un total de {len(TheNeighbourhoods_T)} filas.')\n",
    "missing_values = len(TheNeighbourhoods_T) - TheNeighbourhoods_T.count()\n",
    "print('Valores faltantes por columna:')\n",
    "print(missing_values)\n"
   ]
  },
  {
   "cell_type": "code",
   "execution_count": 24,
   "metadata": {},
   "outputs": [
    {
     "name": "stdout",
     "output_type": "stream",
     "text": [
      "Número de valores únicos por columna:\n",
      "Neighbourhood                   351\n",
      "Neighbourhood Cleansed          444\n",
      "Neighbourhood Group Cleansed     47\n",
      "dtype: int64\n"
     ]
    }
   ],
   "source": [
    "unique_values_count = TheNeighbourhoods_T.nunique()\n",
    "print('Número de valores únicos por columna:')\n",
    "print(unique_values_count)\n"
   ]
  },
  {
   "cell_type": "markdown",
   "metadata": {},
   "source": [
    "Comentarios:  No faltan valores en Neighbourhood Cleansed y tiene mas valores distintos .  \n",
    "\n",
    "Neighbourhood Group Cleansed: 610 con valores faltante y con solo 46 valores unicos --> unificar en esta columna.\n",
    "\n",
    "Relleno Neighbourhood Group Cleansed con Neighbourhood Cleansed donde aparezca NAN / NULL\n",
    "\n",
    "\n"
   ]
  },
  {
   "cell_type": "markdown",
   "metadata": {},
   "source": [
    "<div class = \"alert alert-success\"> 8"
   ]
  },
  {
   "cell_type": "code",
   "execution_count": 25,
   "metadata": {},
   "outputs": [],
   "source": [
    "TheNeighbourhoods_T[\"Final Neighbourhood\"] = TheNeighbourhoods_T[\"Neighbourhood Group Cleansed\"].fillna(TheNeighbourhoods_T[\"Neighbourhood Cleansed\"])\n"
   ]
  },
  {
   "cell_type": "code",
   "execution_count": 26,
   "metadata": {},
   "outputs": [
    {
     "data": {
      "text/plain": [
       "0"
      ]
     },
     "execution_count": 26,
     "metadata": {},
     "output_type": "execute_result"
    }
   ],
   "source": [
    "##Comprobar que no hay valores vacíos en Final Neighbourhood\n",
    "\n",
    "TheNeighbourhoods_T[\"Final Neighbourhood\"].isnull().sum()\n"
   ]
  },
  {
   "cell_type": "markdown",
   "metadata": {},
   "source": [
    "Contar el número de valores únicos en las columnas de tu DataFrame TheNeighbourhoods_T, puedes hacerlo de la siguiente manera:"
   ]
  },
  {
   "cell_type": "code",
   "execution_count": 27,
   "metadata": {},
   "outputs": [
    {
     "data": {
      "text/plain": [
       "Neighbourhood                   352\n",
       "Neighbourhood Cleansed          444\n",
       "Neighbourhood Group Cleansed     48\n",
       "Final Neighbourhood             275\n",
       "dtype: int64"
      ]
     },
     "execution_count": 27,
     "metadata": {},
     "output_type": "execute_result"
    }
   ],
   "source": [
    "TheNeighbourhoods_T.apply(lambda x: len(x.unique()))\n"
   ]
  },
  {
   "cell_type": "markdown",
   "metadata": {},
   "source": [
    "<div class = \"alert alert-success\">9"
   ]
  },
  {
   "cell_type": "code",
   "execution_count": 28,
   "metadata": {},
   "outputs": [],
   "source": [
    "train[\"Final Neighbourhood\"] = train[\"Neighbourhood Group Cleansed\"].fillna(train[\"Neighbourhood Cleansed\"])\n",
    "train.drop([\"Neighbourhood\", \"Neighbourhood Group Cleansed\", \"Neighbourhood Cleansed\"], axis=1, inplace=True)\n",
    "# Guardar el conjunto de entrenamiento actualizado en un archivo CSV\n",
    "train.to_csv(r'C:\\Users\\USER\\Desktop\\DayanaFrepost\\machine-learning\\Entrega Dayana\\train.csv', sep=';', decimal='.', index=False)\n"
   ]
  },
  {
   "cell_type": "code",
   "execution_count": 29,
   "metadata": {},
   "outputs": [],
   "source": [
    "# Visualizar  Price"
   ]
  },
  {
   "cell_type": "code",
   "execution_count": 30,
   "metadata": {},
   "outputs": [
    {
     "data": {
      "image/png": "[encoded data removed]",
      "text/plain": [
       "<Figure size 640x480 with 1 Axes>"
      ]
     },
     "metadata": {},
     "output_type": "display_data"
    }
   ],
   "source": [
    "import matplotlib.pyplot as plt\n",
    "\n",
    "train['Price'].plot.hist(alpha=0.5, bins=25, grid=True)\n",
    "plt.xlabel('Price')\n",
    "plt.show()\n"
   ]
  },
  {
   "cell_type": "markdown",
   "metadata": {},
   "source": [
    "<div class = \"alert alert-success\">10"
   ]
  },
  {
   "cell_type": "code",
   "execution_count": 31,
   "metadata": {},
   "outputs": [
    {
     "name": "stdout",
     "output_type": "stream",
     "text": [
      "(11061, 18)\n",
      "                                                                     0  \\\n",
      "City                                                            Madrid   \n",
      "Country Code                                                        ES   \n",
      "Latitude                                                     40.407732   \n",
      "Longitude                                                    -3.684819   \n",
      "Property Type                                                Apartment   \n",
      "Room Type                                              Entire home/apt   \n",
      "Bathrooms                                                          1.0   \n",
      "Bedrooms                                                           1.0   \n",
      "Beds                                                               2.0   \n",
      "Bed Type                                                      Real Bed   \n",
      "Amenities            TV,Internet,Wireless Internet,Air conditioning...   \n",
      "Price                                                             60.0   \n",
      "Security Deposit                                                   NaN   \n",
      "Cleaning Fee                                                      25.0   \n",
      "Guests Included                                                      1   \n",
      "Number of Reviews                                                   12   \n",
      "Cancellation Policy                                           moderate   \n",
      "Final Neighbourhood                                             Retiro   \n",
      "\n",
      "                                                                     1  \\\n",
      "City                                                            Madrid   \n",
      "Country Code                                                        ES   \n",
      "Latitude                                                     40.415802   \n",
      "Longitude                                                     -3.70534   \n",
      "Property Type                                                Apartment   \n",
      "Room Type                                              Entire home/apt   \n",
      "Bathrooms                                                          1.0   \n",
      "Bedrooms                                                           1.0   \n",
      "Beds                                                               2.0   \n",
      "Bed Type                                                      Real Bed   \n",
      "Amenities            TV,Internet,Wireless Internet,Air conditioning...   \n",
      "Price                                                             50.0   \n",
      "Security Deposit                                                   NaN   \n",
      "Cleaning Fee                                                      15.0   \n",
      "Guests Included                                                      1   \n",
      "Number of Reviews                                                   20   \n",
      "Cancellation Policy                                           flexible   \n",
      "Final Neighbourhood                                             Centro   \n",
      "\n",
      "                                                                     2  \\\n",
      "City                                                            Madrid   \n",
      "Country Code                                                        ES   \n",
      "Latitude                                                     40.389048   \n",
      "Longitude                                                    -3.740374   \n",
      "Property Type                                                Apartment   \n",
      "Room Type                                                  Shared room   \n",
      "Bathrooms                                                          1.5   \n",
      "Bedrooms                                                           1.0   \n",
      "Beds                                                               8.0   \n",
      "Bed Type                                                      Real Bed   \n",
      "Amenities            Internet,Wireless Internet,Wheelchair accessib...   \n",
      "Price                                                             10.0   \n",
      "Security Deposit                                                   NaN   \n",
      "Cleaning Fee                                                       5.0   \n",
      "Guests Included                                                      1   \n",
      "Number of Reviews                                                    0   \n",
      "Cancellation Policy                                           moderate   \n",
      "Final Neighbourhood                                        Carabanchel   \n",
      "\n",
      "                                                                     3  \\\n",
      "City                                                            Madrid   \n",
      "Country Code                                                        ES   \n",
      "Latitude                                                     40.412814   \n",
      "Longitude                                                    -3.703052   \n",
      "Property Type                                                Apartment   \n",
      "Room Type                                                 Private room   \n",
      "Bathrooms                                                          3.0   \n",
      "Bedrooms                                                           1.0   \n",
      "Beds                                                               1.0   \n",
      "Bed Type                                                      Real Bed   \n",
      "Amenities            Wireless Internet,Kitchen,Smoking allowed,Heat...   \n",
      "Price                                                             30.0   \n",
      "Security Deposit                                                   NaN   \n",
      "Cleaning Fee                                                       NaN   \n",
      "Guests Included                                                      1   \n",
      "Number of Reviews                                                    0   \n",
      "Cancellation Policy                                             strict   \n",
      "Final Neighbourhood                                             Centro   \n",
      "\n",
      "                                                                     4  \n",
      "City                                                            Madrid  \n",
      "Country Code                                                        ES  \n",
      "Latitude                                                     40.438631  \n",
      "Longitude                                                    -3.713716  \n",
      "Property Type                                                Apartment  \n",
      "Room Type                                                 Private room  \n",
      "Bathrooms                                                          1.0  \n",
      "Bedrooms                                                           1.0  \n",
      "Beds                                                               1.0  \n",
      "Bed Type                                                      Real Bed  \n",
      "Amenities            TV,Cable TV,Internet,Wireless Internet,Air con...  \n",
      "Price                                                             32.0  \n",
      "Security Deposit                                                   NaN  \n",
      "Cleaning Fee                                                       NaN  \n",
      "Guests Included                                                      1  \n",
      "Number of Reviews                                                   97  \n",
      "Cancellation Policy                                             strict  \n",
      "Final Neighbourhood                                           Chamberí  \n"
     ]
    }
   ],
   "source": [
    "import numpy as np\n",
    "\n",
    "# Calcular el primer y tercer cuartil (Q1 y Q3)\n",
    "Q1 = train['Price'].quantile(0.25)\n",
    "Q3 = train['Price'].quantile(0.75)\n",
    "\n",
    "# Calcular el rango intercuartílico (IQR)\n",
    "IQR = Q3 - Q1\n",
    "\n",
    "# Definir límites para los valores atípicos\n",
    "lower_limit = Q1 - 1.5 * IQR\n",
    "upper_limit = Q3 + 1.5 * IQR\n",
    "\n",
    "# Filtrar el DataFrame para eliminar outliers\n",
    "train = train[(train['Price'] >= lower_limit) & (train['Price'] <= upper_limit)]\n",
    "\n",
    "# Guardar el conjunto de entrenamiento actualizado en un archivo CSV\n",
    "train.to_csv(r'C:\\Users\\USER\\Desktop\\DayanaFrepost\\machine-learning\\Entrega Dayana\\train.csv', sep=';', decimal='.', index=False)\n",
    "\n",
    "print(train.shape)\n",
    "\n",
    "print(train.head().T)"
   ]
  },
  {
   "cell_type": "code",
   "execution_count": 32,
   "metadata": {},
   "outputs": [
    {
     "name": "stdout",
     "output_type": "stream",
     "text": [
      "City                    object\n",
      "Country Code            object\n",
      "Latitude               float64\n",
      "Longitude              float64\n",
      "Property Type           object\n",
      "Room Type               object\n",
      "Bathrooms              float64\n",
      "Bedrooms               float64\n",
      "Beds                   float64\n",
      "Bed Type                object\n",
      "Amenities               object\n",
      "Price                  float64\n",
      "Security Deposit       float64\n",
      "Cleaning Fee           float64\n",
      "Guests Included          int64\n",
      "Number of Reviews        int64\n",
      "Cancellation Policy     object\n",
      "Final Neighbourhood     object\n",
      "dtype: object\n"
     ]
    }
   ],
   "source": [
    "print(train.dtypes)\n"
   ]
  },
  {
   "cell_type": "markdown",
   "metadata": {},
   "source": [
    "Convertir las columnas numericas en Float"
   ]
  },
  {
   "cell_type": "markdown",
   "metadata": {},
   "source": [
    "<div class = \"alert alert-success\">11"
   ]
  },
  {
   "cell_type": "code",
   "execution_count": 33,
   "metadata": {},
   "outputs": [
    {
     "name": "stdout",
     "output_type": "stream",
     "text": [
      "City                    object\n",
      "Country Code            object\n",
      "Latitude               float64\n",
      "Longitude              float64\n",
      "Property Type           object\n",
      "Room Type               object\n",
      "Bathrooms              float64\n",
      "Bedrooms               float64\n",
      "Beds                   float64\n",
      "Bed Type                object\n",
      "Amenities               object\n",
      "Price                  float64\n",
      "Security Deposit       float64\n",
      "Cleaning Fee           float64\n",
      "Guests Included        float64\n",
      "Number of Reviews      float64\n",
      "Cancellation Policy     object\n",
      "Final Neighbourhood     object\n",
      "dtype: object\n"
     ]
    }
   ],
   "source": [
    "# Lista de nombres de columnas numéricas\n",
    "columnas_numericas = [ 'Bathrooms', 'Bedrooms', 'Beds', 'Price', 'Security Deposit', 'Cleaning Fee', 'Guests Included', 'Number of Reviews']\n",
    "\n",
    "# Convertir las columnas numéricas a tipo de dato float\n",
    "train[columnas_numericas] = train[columnas_numericas].astype(float)\n",
    "\n",
    "# Verificar los tipos de datos actualizados\n",
    "print(train.dtypes)\n",
    "\n",
    "# Guardar el conjunto de entrenamiento actualizado en un archivo CSV\n",
    "train.to_csv(r'C:\\Users\\USER\\Desktop\\DayanaFrepost\\machine-learning\\Entrega Dayana\\train.csv', sep=';', decimal='.', index=False)\n"
   ]
  },
  {
   "cell_type": "code",
   "execution_count": 34,
   "metadata": {},
   "outputs": [
    {
     "name": "stdout",
     "output_type": "stream",
     "text": [
      "Número de registros con cero baños: 53\n",
      "Número de registros con precio cero: 0\n"
     ]
    }
   ],
   "source": [
    "print(f\"Número de registros con cero baños: {len(train[train['Bathrooms'] == 0])}\")\n",
    "print(f\"Número de registros con precio cero: {len(train[train['Price'] == 0])}\")\n"
   ]
  },
  {
   "cell_type": "markdown",
   "metadata": {},
   "source": [
    "<div class = \"alert alert-success\">12"
   ]
  },
  {
   "cell_type": "code",
   "execution_count": 35,
   "metadata": {},
   "outputs": [],
   "source": [
    "# Lista de columnas numéricas que quieres limpiar\n",
    "columns_to_clean = ['Bathrooms', 'Price']\n",
    "\n",
    "# Elimina filas con valores nulos en las columnas especificadas\n",
    "train = train.dropna(subset=columns_to_clean)\n",
    "\n",
    "# Elimina filas donde el precio es igual a cero o menor\n",
    "train = train[train['Price'] > 0]\n",
    "\n",
    "# Guardar el conjunto de entrenamiento actualizado en un archivo CSV\n",
    "train.to_csv(r'C:\\Users\\USER\\Desktop\\DayanaFrepost\\machine-learning\\Entrega Dayana\\train.csv', sep=';', decimal='.', index=False)\n"
   ]
  },
  {
   "cell_type": "markdown",
   "metadata": {},
   "source": [
    "Hallar missing values en columnas tipo OBJECT"
   ]
  },
  {
   "cell_type": "code",
   "execution_count": 36,
   "metadata": {},
   "outputs": [
    {
     "name": "stdout",
     "output_type": "stream",
     "text": [
      "City                    2\n",
      "Country Code            0\n",
      "Property Type           0\n",
      "Room Type               0\n",
      "Bed Type                0\n",
      "Amenities              69\n",
      "Cancellation Policy     0\n",
      "Final Neighbourhood     0\n",
      "dtype: int64\n"
     ]
    }
   ],
   "source": [
    "# Selecciona las columnas de tipo \"object\"\n",
    "object_columns = train.select_dtypes(include=['object'])\n",
    "\n",
    "# Calcula la cantidad de valores faltantes por columna\n",
    "missing_values = object_columns.isnull().sum()\n",
    "\n",
    "# Imprime la cantidad de valores faltantes por columna\n",
    "print(missing_values)\n"
   ]
  },
  {
   "cell_type": "markdown",
   "metadata": {},
   "source": [
    "Amenities: SOLO 69 valores en columnas objeto,  pero se trata de tipo objeto --> la elimino"
   ]
  },
  {
   "cell_type": "code",
   "execution_count": 37,
   "metadata": {},
   "outputs": [
    {
     "name": "stdout",
     "output_type": "stream",
     "text": [
      "Latitude                0\n",
      "Longitude               0\n",
      "Bathrooms               0\n",
      "Bedrooms               20\n",
      "Beds                   18\n",
      "Price                   0\n",
      "Security Deposit     6335\n",
      "Cleaning Fee         4497\n",
      "Guests Included         0\n",
      "Number of Reviews       0\n",
      "dtype: int64\n"
     ]
    }
   ],
   "source": [
    "# Seleccionar las columnas numéricas\n",
    "numeric_columns = train.select_dtypes(include=['float64', 'int64'])\n",
    "\n",
    "# Contar los valores NaN en cada columna numérica\n",
    "nan_counts = numeric_columns.isna().sum()\n",
    "\n",
    "# Imprimir el conteo de NaN por columna\n",
    "print(nan_counts)\n"
   ]
  },
  {
   "cell_type": "markdown",
   "metadata": {},
   "source": [
    "<div class = \"alert alert-success\">13"
   ]
  },
  {
   "cell_type": "code",
   "execution_count": 38,
   "metadata": {},
   "outputs": [],
   "source": [
    "# Rellenar los valores NaN en las columna 'Amenities'\n",
    "\n",
    "train['Amenities'].fillna(\"\", inplace=True)\n",
    "\n",
    "# Aplicar la transformación para contar los elementos separados por comas en las columnas 'Features', 'Amenities' y 'Host Verifications'\n",
    "\n",
    "train['Amenities'] = train['Amenities'].apply(lambda x: len(str(x).split(',')))\n"
   ]
  },
  {
   "cell_type": "markdown",
   "metadata": {},
   "source": [
    "<div class = \"alert alert-success\">14"
   ]
  },
  {
   "cell_type": "code",
   "execution_count": 39,
   "metadata": {},
   "outputs": [],
   "source": [
    "# Calcular la media de cada columna numérica\n",
    "mean_values = train.mean()\n",
    "\n",
    "# Rellenar los valores NaN en las columnas numéricas con la media correspondiente\n",
    "train['Bedrooms'].fillna(mean_values['Bedrooms'], inplace=True)\n",
    "train['Beds'].fillna(mean_values['Beds'], inplace=True)\n",
    "train['Security Deposit'].fillna(mean_values['Security Deposit'], inplace=True)\n",
    "train['Cleaning Fee'].fillna(mean_values['Cleaning Fee'], inplace=True)\n"
   ]
  },
  {
   "cell_type": "code",
   "execution_count": 40,
   "metadata": {},
   "outputs": [
    {
     "data": {
      "text/html": [
       "<div>\n",
       "<style scoped>\n",
       "    .dataframe tbody tr th:only-of-type {\n",
       "        vertical-align: middle;\n",
       "    }\n",
       "\n",
       "    .dataframe tbody tr th {\n",
       "        vertical-align: top;\n",
       "    }\n",
       "\n",
       "    .dataframe thead th {\n",
       "        text-align: right;\n",
       "    }\n",
       "</style>\n",
       "<table border=\"1\" class=\"dataframe\">\n",
       "  <thead>\n",
       "    <tr style=\"text-align: right;\">\n",
       "      <th></th>\n",
       "      <th>Latitude</th>\n",
       "      <th>Longitude</th>\n",
       "      <th>Bathrooms</th>\n",
       "      <th>Bedrooms</th>\n",
       "      <th>Beds</th>\n",
       "      <th>Amenities</th>\n",
       "      <th>Price</th>\n",
       "      <th>Security Deposit</th>\n",
       "      <th>Cleaning Fee</th>\n",
       "      <th>Guests Included</th>\n",
       "      <th>Number of Reviews</th>\n",
       "    </tr>\n",
       "  </thead>\n",
       "  <tbody>\n",
       "    <tr>\n",
       "      <th>count</th>\n",
       "      <td>11024.000000</td>\n",
       "      <td>11024.000000</td>\n",
       "      <td>11024.000000</td>\n",
       "      <td>11024.000000</td>\n",
       "      <td>11024.000000</td>\n",
       "      <td>11024.000000</td>\n",
       "      <td>11024.000000</td>\n",
       "      <td>11024.000000</td>\n",
       "      <td>11024.000000</td>\n",
       "      <td>11024.000000</td>\n",
       "      <td>11024.000000</td>\n",
       "    </tr>\n",
       "    <tr>\n",
       "      <th>mean</th>\n",
       "      <td>40.507083</td>\n",
       "      <td>-3.839924</td>\n",
       "      <td>1.216845</td>\n",
       "      <td>1.240822</td>\n",
       "      <td>1.889242</td>\n",
       "      <td>14.224329</td>\n",
       "      <td>59.689314</td>\n",
       "      <td>179.198123</td>\n",
       "      <td>27.940708</td>\n",
       "      <td>1.515512</td>\n",
       "      <td>23.410287</td>\n",
       "    </tr>\n",
       "    <tr>\n",
       "      <th>std</th>\n",
       "      <td>4.398393</td>\n",
       "      <td>13.052738</td>\n",
       "      <td>0.543815</td>\n",
       "      <td>0.738259</td>\n",
       "      <td>1.345577</td>\n",
       "      <td>4.714206</td>\n",
       "      <td>33.968523</td>\n",
       "      <td>67.181835</td>\n",
       "      <td>14.518708</td>\n",
       "      <td>0.953388</td>\n",
       "      <td>38.644824</td>\n",
       "    </tr>\n",
       "    <tr>\n",
       "      <th>min</th>\n",
       "      <td>-37.851182</td>\n",
       "      <td>-123.124429</td>\n",
       "      <td>0.000000</td>\n",
       "      <td>0.000000</td>\n",
       "      <td>1.000000</td>\n",
       "      <td>1.000000</td>\n",
       "      <td>9.000000</td>\n",
       "      <td>0.000000</td>\n",
       "      <td>0.000000</td>\n",
       "      <td>0.000000</td>\n",
       "      <td>0.000000</td>\n",
       "    </tr>\n",
       "    <tr>\n",
       "      <th>25%</th>\n",
       "      <td>40.409772</td>\n",
       "      <td>-3.707629</td>\n",
       "      <td>1.000000</td>\n",
       "      <td>1.000000</td>\n",
       "      <td>1.000000</td>\n",
       "      <td>11.000000</td>\n",
       "      <td>32.000000</td>\n",
       "      <td>179.198123</td>\n",
       "      <td>20.000000</td>\n",
       "      <td>1.000000</td>\n",
       "      <td>1.000000</td>\n",
       "    </tr>\n",
       "    <tr>\n",
       "      <th>50%</th>\n",
       "      <td>40.419092</td>\n",
       "      <td>-3.701032</td>\n",
       "      <td>1.000000</td>\n",
       "      <td>1.000000</td>\n",
       "      <td>1.000000</td>\n",
       "      <td>14.000000</td>\n",
       "      <td>52.000000</td>\n",
       "      <td>179.198123</td>\n",
       "      <td>27.940708</td>\n",
       "      <td>1.000000</td>\n",
       "      <td>7.000000</td>\n",
       "    </tr>\n",
       "    <tr>\n",
       "      <th>75%</th>\n",
       "      <td>40.430461</td>\n",
       "      <td>-3.686902</td>\n",
       "      <td>1.000000</td>\n",
       "      <td>1.000000</td>\n",
       "      <td>2.000000</td>\n",
       "      <td>17.000000</td>\n",
       "      <td>80.000000</td>\n",
       "      <td>179.198123</td>\n",
       "      <td>30.000000</td>\n",
       "      <td>2.000000</td>\n",
       "      <td>28.250000</td>\n",
       "    </tr>\n",
       "    <tr>\n",
       "      <th>max</th>\n",
       "      <td>55.966912</td>\n",
       "      <td>153.371427</td>\n",
       "      <td>8.000000</td>\n",
       "      <td>10.000000</td>\n",
       "      <td>16.000000</td>\n",
       "      <td>39.000000</td>\n",
       "      <td>166.000000</td>\n",
       "      <td>990.000000</td>\n",
       "      <td>200.000000</td>\n",
       "      <td>16.000000</td>\n",
       "      <td>356.000000</td>\n",
       "    </tr>\n",
       "  </tbody>\n",
       "</table>\n",
       "</div>"
      ],
      "text/plain": [
       "           Latitude     Longitude     Bathrooms      Bedrooms          Beds  \\\n",
       "count  11024.000000  11024.000000  11024.000000  11024.000000  11024.000000   \n",
       "mean      40.507083     -3.839924      1.216845      1.240822      1.889242   \n",
       "std        4.398393     13.052738      0.543815      0.738259      1.345577   \n",
       "min      -37.851182   -123.124429      0.000000      0.000000      1.000000   \n",
       "25%       40.409772     -3.707629      1.000000      1.000000      1.000000   \n",
       "50%       40.419092     -3.701032      1.000000      1.000000      1.000000   \n",
       "75%       40.430461     -3.686902      1.000000      1.000000      2.000000   \n",
       "max       55.966912    153.371427      8.000000     10.000000     16.000000   \n",
       "\n",
       "          Amenities         Price  Security Deposit  Cleaning Fee  \\\n",
       "count  11024.000000  11024.000000      11024.000000  11024.000000   \n",
       "mean      14.224329     59.689314        179.198123     27.940708   \n",
       "std        4.714206     33.968523         67.181835     14.518708   \n",
       "min        1.000000      9.000000          0.000000      0.000000   \n",
       "25%       11.000000     32.000000        179.198123     20.000000   \n",
       "50%       14.000000     52.000000        179.198123     27.940708   \n",
       "75%       17.000000     80.000000        179.198123     30.000000   \n",
       "max       39.000000    166.000000        990.000000    200.000000   \n",
       "\n",
       "       Guests Included  Number of Reviews  \n",
       "count     11024.000000       11024.000000  \n",
       "mean          1.515512          23.410287  \n",
       "std           0.953388          38.644824  \n",
       "min           0.000000           0.000000  \n",
       "25%           1.000000           1.000000  \n",
       "50%           1.000000           7.000000  \n",
       "75%           2.000000          28.250000  \n",
       "max          16.000000         356.000000  "
      ]
     },
     "execution_count": 40,
     "metadata": {},
     "output_type": "execute_result"
    }
   ],
   "source": [
    "train.describe ()"
   ]
  },
  {
   "cell_type": "code",
   "execution_count": 41,
   "metadata": {},
   "outputs": [
    {
     "name": "stdout",
     "output_type": "stream",
     "text": [
      "Index(['City', 'Country Code', 'Latitude', 'Longitude', 'Property Type',\n",
      "       'Room Type', 'Bathrooms', 'Bedrooms', 'Beds', 'Bed Type', 'Amenities',\n",
      "       'Price', 'Security Deposit', 'Cleaning Fee', 'Guests Included',\n",
      "       'Number of Reviews', 'Cancellation Policy', 'Final Neighbourhood'],\n",
      "      dtype='object')\n"
     ]
    }
   ],
   "source": [
    "# Verificar los nombres de las columnas en tu DataFrame train\n",
    "print(train.columns)\n",
    "\n"
   ]
  },
  {
   "cell_type": "markdown",
   "metadata": {},
   "source": [
    "<div class = \"alert alert-success\">15"
   ]
  },
  {
   "cell_type": "markdown",
   "metadata": {},
   "source": [
    "## aqui he tenido varios inconvenientes cuando reinicio el kernel"
   ]
  },
  {
   "cell_type": "code",
   "execution_count": 49,
   "metadata": {},
   "outputs": [],
   "source": [
    "from sklearn.model_selection import train_test_split\n",
    "from sklearn import preprocessing\n",
    "import pandas as pd\n",
    "\n",
    "# lista de variables categóricas\n",
    "categorical = ['City', 'Property Type', 'Room Type', 'Bed Type', 'Amenities', 'Cancellation Policy','Final Neighbourhood','Country Code']\n",
    "\n",
    "# Crear un DataFrame para almacenar los mapeos de medias\n",
    "mean_map = {}\n",
    "\n",
    "# Iterar a través de cada columna categórica\n",
    "for c in categorical:\n",
    "    # Calcular la media de 'Price' para cada categoría en la columna categórica\n",
    "    mean = train.groupby(c)['Price'].mean()\n",
    "    \n",
    "    # Mapear los valores de 'Price' promedio a la columna categórica\n",
    "    train[c] = train[c].map(mean)\n",
    "    \n",
    "    # Guardar el mapeo en el diccionario mean_map\n",
    "    mean_map[c] = mean\n",
    "\n",
    "\n"
   ]
  },
  {
   "cell_type": "code",
   "execution_count": 50,
   "metadata": {},
   "outputs": [
    {
     "name": "stdout",
     "output_type": "stream",
     "text": [
      "Series([], dtype: float64)\n"
     ]
    }
   ],
   "source": [
    "# Verificar qué columnas contienen valores NaN\n",
    "nan_columns = train.columns[train.isna().any()]\n",
    "\n",
    "# Contar la cantidad de NaN en cada columna\n",
    "nan_counts = train[nan_columns].isna().sum()\n",
    "\n",
    "# Mostrar las columnas y la cantidad de NaN en cada una\n",
    "print(nan_counts)\n"
   ]
  },
  {
   "cell_type": "markdown",
   "metadata": {},
   "source": [
    "<div class = \"alert alert-success\">16"
   ]
  },
  {
   "cell_type": "code",
   "execution_count": 51,
   "metadata": {},
   "outputs": [],
   "source": [
    "# Reemplazar NaN por cadenas vacías en la columna 'City' de train\n",
    "train['City'].fillna(\"\", inplace=True)\n",
    "\n"
   ]
  },
  {
   "cell_type": "code",
   "execution_count": 52,
   "metadata": {},
   "outputs": [
    {
     "name": "stdout",
     "output_type": "stream",
     "text": [
      "City                   float64\n",
      "Country Code           float64\n",
      "Latitude               float64\n",
      "Longitude              float64\n",
      "Property Type          float64\n",
      "Room Type              float64\n",
      "Bathrooms              float64\n",
      "Bedrooms               float64\n",
      "Beds                   float64\n",
      "Bed Type               float64\n",
      "Amenities              float64\n",
      "Price                  float64\n",
      "Security Deposit       float64\n",
      "Cleaning Fee           float64\n",
      "Guests Included        float64\n",
      "Number of Reviews      float64\n",
      "Cancellation Policy    float64\n",
      "Final Neighbourhood    float64\n",
      "dtype: object\n"
     ]
    }
   ],
   "source": [
    "print(train.dtypes)\n"
   ]
  },
  {
   "cell_type": "markdown",
   "metadata": {},
   "source": [
    "# 4 Construcción y validación del modelo"
   ]
  },
  {
   "cell_type": "code",
   "execution_count": 53,
   "metadata": {},
   "outputs": [
    {
     "name": "stdout",
     "output_type": "stream",
     "text": [
      "Mejor puntuación de validación cruzada media: -424.828\n",
      "Mejores parámetros: {'alpha': 0.03162277660168379}\n"
     ]
    },
    {
     "data": {
      "image/png": "[encoded data removed]",
      "text/plain": [
       "<Figure size 640x480 with 1 Axes>"
      ]
     },
     "metadata": {},
     "output_type": "display_data"
    }
   ],
   "source": [
    "from sklearn.model_selection import train_test_split\n",
    "from sklearn import preprocessing\n",
    "\n",
    "# Crear las matrices de características (X) y etiquetas (y)\n",
    "y_train = train['Price'].values  # Columna 'Price' como variable objetivo\n",
    "X_train = train.drop(columns=['Price']).values  # Resto de las columnas como características\n",
    "\n",
    "# Obtener los nombres de las características\n",
    "feature_names = train.drop(columns=['Price']).columns\n",
    "\n",
    "# Escalar (con los datos de entrenamiento)\n",
    "scaler = preprocessing.StandardScaler().fit(X_train)\n",
    "XtrainScaled = scaler.transform(X_train)\n",
    "\n",
    "from sklearn.model_selection import GridSearchCV\n",
    "from sklearn.linear_model import Lasso\n",
    "\n",
    "alpha_vector = np.logspace(-1.5, -0.5, 20)\n",
    "\n",
    "param_grid = {'alpha': alpha_vector}\n",
    "grid = GridSearchCV(Lasso(), scoring='neg_mean_squared_error', param_grid=param_grid, cv=10)\n",
    "grid.fit(XtrainScaled, y_train)\n",
    "print(\"Mejor puntuación de validación cruzada media: {:.3f}\".format(grid.best_score_))\n",
    "print(\"Mejores parámetros: {}\".format(grid.best_params_))\n",
    "\n",
    "scores = -1 * np.array(grid.cv_results_['mean_test_score'])\n",
    "plt.semilogx(alpha_vector, scores, '-o')\n",
    "plt.xlabel('alpha', fontsize=16)\n",
    "plt.ylabel('10-Fold MSE')\n",
    "plt.show()\n"
   ]
  },
  {
   "cell_type": "markdown",
   "metadata": {},
   "source": [
    "Comentarios: Mejor valor de alpha (hiperparámetro de regularización): alrededor de 0.0316.\n",
    "Puntuación media de validación cruzada: aproximadamente -411.347.  los resultados indican que has encontrado un valor de alpha que regula efectivamente el modelo Lasso y que el modelo parece funcionar bien en términos de error cuadrático medio en los datos de validación cruzada. "
   ]
  },
  {
   "cell_type": "code",
   "execution_count": 54,
   "metadata": {},
   "outputs": [],
   "source": [
    "# 0\n",
    "test = pd.read_csv(r\"C:\\Users\\USER\\Desktop\\DayanaFrepost\\machine-learning\\Entrega Dayana\\test.csv\", sep=';', decimal='.')\n"
   ]
  },
  {
   "cell_type": "code",
   "execution_count": 55,
   "metadata": {},
   "outputs": [
    {
     "name": "stdout",
     "output_type": "stream",
     "text": [
      "Dimensiones del conjunto de entrenamiento después de eliminar columnas: (2956, 47)\n"
     ]
    }
   ],
   "source": [
    "# 1\n",
    "columnas_a_eliminar = [\n",
    "    'ID', 'Listing Url', 'Scrape ID', 'Last Scraped', 'House Rules',\n",
    "    'Thumbnail Url', 'Medium Url', 'Picture Url', 'XL Picture Url',\n",
    "    'Host ID', 'Host URL', 'Host Name', 'Host Since', 'Host Location',\n",
    "    'Host About', 'Host Response Time', 'Host Response Rate',\n",
    "    'Host Acceptance Rate', 'Host Thumbnail Url', 'Host Picture Url',\n",
    "    'Host Neighbourhood', 'Host Listings Count', 'Host Total Listings Count',\n",
    "    'Host Verifications', 'Extra People', 'Minimum Nights', 'Maximum Nights',\n",
    "    'Calendar Updated', 'Has Availability', 'Availability 30',\n",
    "    'Availability 60', 'Availability 90', 'Availability 365',\n",
    "    'Calendar last Scraped', 'First Review', 'Last Review', 'License',\n",
    "    'Jurisdiction Names', 'Calculated host listings count', 'Reviews per Month',\n",
    "    'Geolocation', 'Features' \n",
    "]\n",
    "\n",
    "# Eliminar las columnas del conjunto de test\n",
    "test = test.drop(columns=columnas_a_eliminar)\n",
    "\n",
    "# Verificar las nuevas dimensiones de los conjuntos de entrenamiento\n",
    "print(f'Dimensiones del conjunto de entrenamiento después de eliminar columnas: {test.shape}')\n",
    "\n",
    "# Guardar los conjuntos de entrenamiento y prueba en archivos CSV\n",
    "test.to_csv(r'C:\\Users\\USER\\Desktop\\DayanaFrepost\\machine-learning\\Entrega Dayana\\test.csv', sep=';', decimal='.', index=False)"
   ]
  },
  {
   "cell_type": "code",
   "execution_count": 56,
   "metadata": {},
   "outputs": [
    {
     "name": "stdout",
     "output_type": "stream",
     "text": [
      "Dimensiones del conjunto de entrenamiento después de eliminar columnas de texto: (2956, 37)\n"
     ]
    }
   ],
   "source": [
    "# 2\n",
    "# Lista de columnas a eliminar por tener demasiado texto (requieren análisis NLP)\n",
    "columnas_texto = [\n",
    "    'Name', 'Summary', 'Space', 'Description', 'Experiences Offered',\n",
    "    'Neighborhood Overview', 'Notes', 'Transit', 'Access', 'Interaction'\n",
    "]\n",
    "\n",
    "# Eliminar las columnas de texto del conjunto de test\n",
    "test = test.drop(columns=columnas_texto)\n",
    "\n",
    "# Verificar las nuevas dimensiones del conjunto de test\n",
    "print(f'Dimensiones del conjunto de entrenamiento después de eliminar columnas de texto: {test.shape}')\n",
    "\n",
    "# Guardar los conjuntos de entrenamiento y prueba en archivos CSV\n",
    "test.to_csv(r'C:\\Users\\USER\\Desktop\\DayanaFrepost\\machine-learning\\Entrega Dayana\\test.csv', sep=';', decimal='.', index=False)\n"
   ]
  },
  {
   "cell_type": "code",
   "execution_count": 57,
   "metadata": {},
   "outputs": [
    {
     "name": "stdout",
     "output_type": "stream",
     "text": [
      "Columna: Square Feet, NaN Count: 2832\n",
      "Columna: Monthly Price, NaN Count: 2264\n",
      "Columna: Weekly Price, NaN Count: 2247\n",
      "Columna: Security Deposit, NaN Count: 1752\n",
      "Columna: Cleaning Fee, NaN Count: 1243\n",
      "Columna: Neighbourhood, NaN Count: 1070\n",
      "Columna: Review Scores Checkin, NaN Count: 649\n",
      "Columna: Review Scores Location, NaN Count: 649\n",
      "Columna: Review Scores Value, NaN Count: 649\n",
      "Columna: Review Scores Accuracy, NaN Count: 645\n",
      "Columna: Review Scores Cleanliness, NaN Count: 644\n",
      "Columna: Review Scores Rating, NaN Count: 643\n",
      "Columna: Review Scores Communication, NaN Count: 643\n",
      "Columna: Neighbourhood Group Cleansed, NaN Count: 202\n",
      "Columna: Zipcode, NaN Count: 108\n"
     ]
    }
   ],
   "source": [
    "# 3\n",
    "# Calcular la cantidad de NaN en cada columna del conjunto de entrenamiento\n",
    "nan_counts_test = test.isna().sum()\n",
    "\n",
    "# Establecer un umbral\n",
    "threshold = 100\n",
    "\n",
    "\n",
    "# Filtrar las columnas con un número específico de NaN\n",
    "columns_with_many_nan_test = nan_counts_test[nan_counts_test > threshold].index.tolist()\n",
    "\n",
    "# Ordenar las columnas por la cantidad de NaN en orden descendente (de mayor a menor)\n",
    "columns_with_many_nan_test = sorted(columns_with_many_nan_test, key=lambda x: nan_counts_test[x], reverse=True)\n",
    "\n",
    "# Iterar a través de las columnas ordenadas y mostrar sus nombres y cantidades\n",
    "for column_name in columns_with_many_nan_test:\n",
    "    nan_count = nan_counts_test[column_name]\n",
    "    print(f'Columna: {column_name}, NaN Count: {nan_count}')\n",
    "\n"
   ]
  },
  {
   "cell_type": "code",
   "execution_count": 58,
   "metadata": {},
   "outputs": [],
   "source": [
    "# 4 \n",
    "\n",
    "columns_with_na_to_remove = [\n",
    "    'Review Scores Location', 'Review Scores Value',\n",
    "    'Review Scores Checkin', 'Review Scores Accuracy', 'Review Scores Communication',\n",
    "    'Review Scores Cleanliness', 'Review Scores Rating', 'Square Feet', \n",
    "    'Monthly Price', 'Weekly Price'\n",
    "]\n",
    "\n",
    "test.drop(columns=columns_with_na_to_remove, inplace=True)\n",
    "\n",
    "# Guardar el conjunto de entrenamiento actualizado en un archivo CSV\n",
    "test.to_csv(r'C:\\Users\\USER\\Desktop\\DayanaFrepost\\machine-learning\\Entrega Dayana\\test.csv', sep=';', decimal='.', index=False)\n",
    "\n"
   ]
  },
  {
   "cell_type": "code",
   "execution_count": 59,
   "metadata": {},
   "outputs": [],
   "source": [
    "# 5# Eliminar la columna \"Accommodates\"\n",
    "test.drop(columns=['Accommodates'], inplace=True)\n",
    "\n",
    "# Guardar el conjunto de entrenamiento actualizado en un archivo CSV\n",
    "test.to_csv(r'C:\\Users\\USER\\Desktop\\DayanaFrepost\\machine-learning\\Entrega Dayana\\test.csv', sep=';', decimal='.', index=False)\n"
   ]
  },
  {
   "cell_type": "code",
   "execution_count": 60,
   "metadata": {},
   "outputs": [],
   "source": [
    "##6 \n",
    "columns_to_remove_Location = ['Street', 'State', 'Market', 'Smart Location', 'Country', 'Zipcode']\n",
    "test.drop(columns=columns_to_remove_Location, inplace=True)\n",
    "\n",
    "# Guardar el conjunto de entrenamiento actualizado en un archivo CSV\n",
    "test.to_csv(r'C:\\Users\\USER\\Desktop\\DayanaFrepost\\machine-learning\\Entrega Dayana\\test.csv', sep=';', decimal='.', index=False)\n"
   ]
  },
  {
   "cell_type": "code",
   "execution_count": 61,
   "metadata": {},
   "outputs": [],
   "source": [
    "# 7\n",
    "\n",
    "TheNeighbourhoods_Test = test[['Neighbourhood', 'Neighbourhood Cleansed', 'Neighbourhood Group Cleansed']]\n",
    "TheNeighbourhoods_Test[\"Final Neighbourhood\"] = TheNeighbourhoods_Test[\"Neighbourhood Group Cleansed\"].fillna(TheNeighbourhoods_Test[\"Neighbourhood Cleansed\"])\n"
   ]
  },
  {
   "cell_type": "code",
   "execution_count": 62,
   "metadata": {},
   "outputs": [],
   "source": [
    "# 8\n",
    "TheNeighbourhoods_Test[\"Final Neighbourhood\"] = TheNeighbourhoods_Test[\"Neighbourhood Group Cleansed\"].fillna(TheNeighbourhoods_Test[\"Neighbourhood Cleansed\"])\n"
   ]
  },
  {
   "cell_type": "code",
   "execution_count": 63,
   "metadata": {},
   "outputs": [],
   "source": [
    "# 9\n",
    "\n",
    "test[\"Final Neighbourhood\"] = test[\"Neighbourhood Group Cleansed\"].fillna(test[\"Neighbourhood Cleansed\"])\n",
    "test.drop([\"Neighbourhood\", \"Neighbourhood Group Cleansed\", \"Neighbourhood Cleansed\"], axis=1, inplace=True)\n",
    "# Guardar el conjunto de entrenamiento actualizado en un archivo CSV\n",
    "test.to_csv(r'C:\\Users\\USER\\Desktop\\DayanaFrepost\\machine-learning\\Entrega Dayana\\test.csv', sep=';', decimal='.', index=False)\n"
   ]
  },
  {
   "cell_type": "code",
   "execution_count": 64,
   "metadata": {},
   "outputs": [
    {
     "name": "stdout",
     "output_type": "stream",
     "text": [
      "(2766, 18)\n"
     ]
    }
   ],
   "source": [
    "# 10\n",
    "\n",
    "import numpy as np\n",
    "\n",
    "# Calcular el primer y tercer cuartil (Q1 y Q3)\n",
    "Q1 = test['Price'].quantile(0.25)\n",
    "Q3 = test['Price'].quantile(0.75)\n",
    "\n",
    "# Calcular el rango intercuartílico (IQR)\n",
    "IQR = Q3 - Q1\n",
    "\n",
    "# Definir límites para los valores atípicos\n",
    "lower_limit = Q1 - 1.5 * IQR\n",
    "upper_limit = Q3 + 1.5 * IQR\n",
    "\n",
    "# Filtrar el DataFrame para eliminar outliers\n",
    "test = test[(test['Price'] >= lower_limit) & (test['Price'] <= upper_limit)]\n",
    "\n",
    "# Guardar el conjunto de entrenamiento actualizado en un archivo CSV\n",
    "test.to_csv(r'C:\\Users\\USER\\Desktop\\DayanaFrepost\\machine-learning\\Entrega Dayana\\test.csv', sep=';', decimal='.', index=False)\n",
    "\n",
    "print(test.shape)\n",
    "\n"
   ]
  },
  {
   "cell_type": "code",
   "execution_count": 65,
   "metadata": {},
   "outputs": [
    {
     "name": "stdout",
     "output_type": "stream",
     "text": [
      "City                    object\n",
      "Country Code            object\n",
      "Latitude               float64\n",
      "Longitude              float64\n",
      "Property Type           object\n",
      "Room Type               object\n",
      "Bathrooms              float64\n",
      "Bedrooms               float64\n",
      "Beds                   float64\n",
      "Bed Type                object\n",
      "Amenities               object\n",
      "Price                  float64\n",
      "Security Deposit       float64\n",
      "Cleaning Fee           float64\n",
      "Guests Included        float64\n",
      "Number of Reviews      float64\n",
      "Cancellation Policy     object\n",
      "Final Neighbourhood     object\n",
      "dtype: object\n"
     ]
    }
   ],
   "source": [
    "# 11\n",
    "# Lista de nombres de columnas numéricas\n",
    "columnas_numericas = [ 'Bathrooms', 'Bedrooms', 'Beds', 'Price', 'Security Deposit', 'Cleaning Fee', 'Guests Included', 'Number of Reviews']\n",
    "\n",
    "# Convertir las columnas numéricas a tipo de dato float\n",
    "test[columnas_numericas] = test[columnas_numericas].astype(float)\n",
    "\n",
    "# Verificar los tipos de datos actualizados\n",
    "print(test.dtypes)\n",
    "\n",
    "# Guardar el conjunto de entrenamiento actualizado en un archivo CSV\n",
    "test.to_csv(r'C:\\Users\\USER\\Desktop\\DayanaFrepost\\machine-learning\\Entrega Dayana\\test.csv', sep=';', decimal='.', index=False)\n"
   ]
  },
  {
   "cell_type": "code",
   "execution_count": 66,
   "metadata": {},
   "outputs": [],
   "source": [
    "# 12\n",
    "\n",
    "# Lista de columnas numéricas que quieres limpiar\n",
    "columns_to_clean = ['Bathrooms', 'Price']\n",
    "\n",
    "# Elimina filas con valores nulos en las columnas especificadas\n",
    "test = test.dropna(subset=columns_to_clean)\n",
    "\n",
    "# Elimina filas donde el precio es igual a cero o menor\n",
    "test = test[test['Price'] > 0]\n",
    "\n",
    "# Guardar el conjunto de entrenamiento actualizado en un archivo CSV\n",
    "test.to_csv(r'C:\\Users\\USER\\Desktop\\DayanaFrepost\\machine-learning\\Entrega Dayana\\test.csv', sep=';', decimal='.', index=False)\n"
   ]
  },
  {
   "cell_type": "code",
   "execution_count": 67,
   "metadata": {},
   "outputs": [],
   "source": [
    "# 13\n",
    "# Rellenar los valores NaN en las columna 'Amenities'\n",
    "\n",
    "test['Amenities'].fillna(\"\", inplace=True)\n",
    "\n",
    "# Aplicar la transformación para contar los elementos separados por comas en las columnas 'Features', 'Amenities' y 'Host Verifications'\n",
    "\n",
    "test['Amenities'] = test['Amenities'].apply(lambda x: len(str(x).split(',')))\n"
   ]
  },
  {
   "cell_type": "code",
   "execution_count": 68,
   "metadata": {},
   "outputs": [],
   "source": [
    "#14\n",
    "\n",
    "# Calcular la media de cada columna numérica\n",
    "mean_values = test.mean()\n",
    "\n",
    "# Rellenar los valores NaN en las columnas numéricas con la media correspondiente\n",
    "test['Bedrooms'].fillna(mean_values['Bedrooms'], inplace=True)\n",
    "test['Beds'].fillna(mean_values['Beds'], inplace=True)\n",
    "test['Security Deposit'].fillna(mean_values['Security Deposit'], inplace=True)\n",
    "test['Cleaning Fee'].fillna(mean_values['Cleaning Fee'], inplace=True)\n"
   ]
  },
  {
   "cell_type": "code",
   "execution_count": 69,
   "metadata": {},
   "outputs": [],
   "source": [
    "# 15\n",
    "from sklearn.model_selection import train_test_split\n",
    "from sklearn import preprocessing\n",
    "import pandas as pd\n",
    "\n",
    "# lista de variables categóricas\n",
    "categorical = ['City', 'Property Type', 'Room Type', 'Bed Type', 'Amenities', 'Cancellation Policy','Final Neighbourhood','Country Code']\n",
    "\n",
    "# Crear un DataFrame para almacenar los mapeos de medias\n",
    "mean_map = {}\n",
    "\n",
    "# Iterar a través de cada columna categórica\n",
    "for c in categorical:\n",
    "    # Calcular la media de 'Price' para cada categoría en la columna categórica\n",
    "    mean = test.groupby(c)['Price'].mean()\n",
    "    \n",
    "    # Mapear los valores de 'Price' promedio a la columna categórica\n",
    "    test[c] = test[c].map(mean)\n",
    "    \n",
    "    # Guardar el mapeo en el diccionario mean_map\n",
    "    mean_map[c] = mean"
   ]
  },
  {
   "cell_type": "code",
   "execution_count": 70,
   "metadata": {},
   "outputs": [],
   "source": [
    "# 16\n",
    "\n",
    "# Reemplazar NaN por cadenas vacías en la columna 'City' de test\n",
    "test['City'].fillna(\"\", inplace=True)\n"
   ]
  },
  {
   "cell_type": "code",
   "execution_count": 81,
   "metadata": {},
   "outputs": [
    {
     "data": {
      "text/plain": [
       "City                   float64\n",
       "Property Type          float64\n",
       "Room Type              float64\n",
       "Bed Type               float64\n",
       "Amenities              float64\n",
       "Cancellation Policy    float64\n",
       "Final Neighbourhood    float64\n",
       "Country Code           float64\n",
       "dtype: object"
      ]
     },
     "execution_count": 81,
     "metadata": {},
     "output_type": "execute_result"
    }
   ],
   "source": [
    "# Categorizamos con los datos de train!\n",
    "for c in categorical:\n",
    "    test[c] = test[c].map(mean_map[c])\n",
    "\n",
    "# Comprobamos que no quedan valores no numéricos\n",
    "test[categorical].dtypes"
   ]
  },
  {
   "cell_type": "code",
   "execution_count": 82,
   "metadata": {},
   "outputs": [
    {
     "name": "stdout",
     "output_type": "stream",
     "text": [
      "(11024, 18) (2755, 18)\n"
     ]
    }
   ],
   "source": [
    "# Obtener la lista de columnas de df_test\n",
    "cols = test.columns.tolist()\n",
    "\n",
    "# Mover la columna 'Price' al principio de la lista\n",
    "cols.insert(0, cols.pop(cols.index('Price')))\n",
    "\n",
    "# Reorganizar las columnas de test de acuerdo a la nueva lista de columnas\n",
    "test = test[cols]\n",
    "\n",
    "# Rellenar los valores NaN en el conjunto de prueba con la media de las columnas\n",
    "test.fillna(test.mean(), inplace=True)\n",
    "\n",
    "# Imprimir las formas de los conjuntos de entrenamiento y prueba\n",
    "print(train.shape, test.shape)\n"
   ]
  },
  {
   "cell_type": "code",
   "execution_count": 95,
   "metadata": {},
   "outputs": [
    {
     "name": "stdout",
     "output_type": "stream",
     "text": [
      "MSE Modelo Ridge (test): 811.5073422943628\n"
     ]
    }
   ],
   "source": [
    "from sklearn.impute import SimpleImputer\n",
    "\n",
    "# Ajustar el imputador a los datos de entrenamiento y luego transformar X_train\n",
    "imputer = SimpleImputer(strategy='mean')\n",
    "X_train_imputed = imputer.fit_transform(X_train)\n",
    "\n",
    "# Escalar el conjunto de entrenamiento\n",
    "X_train_scaled = scaler.transform(X_train_imputed)\n",
    "\n",
    "# Imputar valores faltantes en el conjunto de prueba y escalarlo utilizando el mismo imputador y scaler\n",
    "X_test_imputed = imputer.transform(X_test)\n",
    "X_test_scaled = scaler.transform(X_test_imputed)\n",
    "\n",
    "# Ajustar el modelo Ridge en el conjunto de entrenamiento\n",
    "from sklearn.linear_model import Ridge\n",
    "ridge = Ridge(alpha=alpha_optimo)  # Ajusta el hiperparámetro alpha según lo necesario\n",
    "ridge.fit(X_train_scaled, y_train)\n",
    "\n",
    "# Realizar predicciones con el modelo Ridge en el conjunto de prueba\n",
    "y_test_ridge = ridge.predict(X_test_scaled)\n",
    "\n",
    "# Calcular el error cuadrado medio en los datos de prueba\n",
    "from sklearn.metrics import mean_squared_error\n",
    "mse_test_ridge = mean_squared_error(y_test, y_test_ridge)\n",
    "print(\"MSE Modelo Ridge (test):\", mse_test_ridge)\n"
   ]
  },
  {
   "cell_type": "code",
   "execution_count": 98,
   "metadata": {},
   "outputs": [
    {
     "name": "stdout",
     "output_type": "stream",
     "text": [
      "MSE Modelo Ridge (test): 811.5073422943628\n"
     ]
    }
   ],
   "source": [
    "# Ajusta el SimpleImputer a los datos de entrenamiento\n",
    "imputer = SimpleImputer(strategy='mean')  # Crea un nuevo imputador\n",
    "imputer.fit(X_train)  # Ajusta el imputador a X_train\n",
    "\n",
    "# Luego, puedes transformar los datos de prueba\n",
    "X_test_imputed = imputer.transform(X_test)\n",
    "\n",
    "# Escala los datos de prueba utilizando el mismo scaler que se ajustó a los datos de entrenamiento\n",
    "X_test_scaled = scaler.transform(X_test_imputed)\n",
    "\n",
    "# Realizar predicciones con el modelo Ridge en el conjunto de prueba\n",
    "y_test_ridge = ridge.predict(X_test_scaled)\n",
    "\n",
    "# Calcular el error cuadrado medio en los datos de prueba\n",
    "from sklearn.metrics import mean_squared_error\n",
    "mse_test_ridge = mean_squared_error(y_test, y_test_ridge)\n",
    "print(\"MSE Modelo Ridge (test):\", mse_test_ridge)\n",
    "\n",
    "\n"
   ]
  },
  {
   "cell_type": "markdown",
   "metadata": {},
   "source": [
    "Conclusiones :\n",
    "\n",
    "La conclusión principal de este resultado es que el modelo Ridge tiene un rendimiento relativamente bueno en el conjunto de prueba, ya que el Error Cuadrático Medio (MSE) es razonablemente bajo. \n",
    "\n",
    "Rendimiento Aceptable: Un MSE de alrededor de 811.51 indica que el modelo Ridge está haciendo predicciones bastante precisas en comparación con los valores reales en el conjunto de prueba. \n",
    "\n",
    "\n",
    "En resumen, el modelo Ridge parece ser una elección sólida para este problema de regresión."
   ]
  },
  {
   "cell_type": "code",
   "execution_count": 99,
   "metadata": {},
   "outputs": [],
   "source": [
    "from sklearn.ensemble import RandomForestRegressor\n",
    "from sklearn.metrics import mean_absolute_error\n",
    "from sklearn.metrics import median_absolute_error\n",
    "\n"
   ]
  },
  {
   "cell_type": "code",
   "execution_count": 100,
   "metadata": {},
   "outputs": [
    {
     "data": {
      "text/plain": [
       "RandomForestRegressor(max_depth=10, random_state=0)"
      ]
     },
     "execution_count": 100,
     "metadata": {},
     "output_type": "execute_result"
    }
   ],
   "source": [
    "# Crear una instancia del modelo\n",
    "rf = RandomForestRegressor(n_estimators=100, max_depth=10, random_state=0)\n",
    "\n",
    "# Ajustar el modelo a los datos de entrenamiento\n",
    "rf.fit(X_train, y_train)\n"
   ]
  },
  {
   "cell_type": "code",
   "execution_count": 102,
   "metadata": {},
   "outputs": [],
   "source": [
    "from sklearn.impute import SimpleImputer\n",
    "\n",
    "# Crea una instancia del imputador y ajústalo a los datos de entrenamiento\n",
    "imputer = SimpleImputer(strategy='mean')\n",
    "imputer.fit(X_train)\n",
    "\n",
    "# Luego, puedes transformar los datos de prueba\n",
    "X_test_imputed = imputer.transform(X_test)\n"
   ]
  },
  {
   "cell_type": "code",
   "execution_count": 103,
   "metadata": {},
   "outputs": [],
   "source": [
    "from sklearn.preprocessing import StandardScaler\n",
    "\n",
    "# Crea una instancia del escalador y ajústalo a los datos de entrenamiento\n",
    "scaler = StandardScaler()\n",
    "scaler.fit(X_train)\n",
    "\n",
    "# Luego, puedes transformar los datos de prueba\n",
    "X_test_scaled = scaler.transform(X_test_imputed)\n"
   ]
  },
  {
   "cell_type": "code",
   "execution_count": 106,
   "metadata": {},
   "outputs": [
    {
     "name": "stdout",
     "output_type": "stream",
     "text": [
      "MSE: 2021.7266714906018\n",
      "MAE: 33.09192106046772\n",
      "R²: -0.7723319597780673\n"
     ]
    }
   ],
   "source": [
    "from sklearn.metrics import mean_squared_error, mean_absolute_error, r2_score\n",
    "\n",
    "# Calcular el MSE\n",
    "mse_rf = mean_squared_error(y_test, y_pred_rf)\n",
    "\n",
    "# Calcular el MAE\n",
    "mae_rf = mean_absolute_error(y_test, y_pred_rf)\n",
    "\n",
    "# Calcular R²\n",
    "r2_rf = r2_score(y_test, y_pred_rf)\n",
    "\n",
    "print(f\"MSE: {mse_rf}\")\n",
    "print(f\"MAE: {mae_rf}\")\n",
    "print(f\"R²: {r2_rf}\")\n",
    "\n"
   ]
  },
  {
   "cell_type": "markdown",
   "metadata": {},
   "source": [
    "Conclusiones : Los resultados de las métricas de evaluación de tu modelo de Random Forest son los siguientes:\n",
    "\n",
    "MSE (Error Cuadrado Medio): 2021.73 El Error Cuadrado Medio es relativamente alto, lo que sugiere que el modelo tiene dificultades para hacer predicciones precisas, un valor de 2021.73 es bastante alto y sugiere que las predicciones del modelo están bastante dispersas y alejadas de los valores reales.\n",
    "\n",
    "MAE (Error Absoluto Medio): 33.09 Un MAE de 33.09 indica que, en promedio, las predicciones del modelo están desviadas de los valores reales en aproximadamente 33.09 \n",
    "\n",
    "R² (Coeficiente de Determinación): -0.77 El Coeficiente de Determinación mide la proporción de la varianza en la variable dependiente que es explicada por el modelo. Un valor de -0.77 es bastante bajo y sugiere que el modelo no se ajusta bien a los datos. En realidad, un valor negativo significa que el modelo es peor que un simple modelo lineal que predice la media de los datos.\n",
    "\n"
   ]
  },
  {
   "cell_type": "code",
   "execution_count": 118,
   "metadata": {},
   "outputs": [
    {
     "data": {
      "text/plain": [
       "SimpleImputer()"
      ]
     },
     "execution_count": 118,
     "metadata": {},
     "output_type": "execute_result"
    }
   ],
   "source": [
    "\n",
    "imputer = SimpleImputer(strategy='mean')\n",
    "imputer.fit(X_train)\n"
   ]
  },
  {
   "cell_type": "code",
   "execution_count": 119,
   "metadata": {},
   "outputs": [],
   "source": [
    "# Utiliza el mismo imputador que se ajustó a los datos de entrenamiento\n",
    "X_test_imputed = imputer.transform(X_test)\n"
   ]
  },
  {
   "cell_type": "code",
   "execution_count": 120,
   "metadata": {},
   "outputs": [],
   "source": [
    "from sklearn.impute import SimpleImputer\n",
    "\n",
    "# Ajustar el imputador a los datos de entrenamiento\n",
    "imputer.fit(X_train)\n",
    "\n",
    "# Luego\n",
    "X_test_imputed = imputer.transform(X_test)\n",
    "\n"
   ]
  },
  {
   "cell_type": "code",
   "execution_count": 121,
   "metadata": {},
   "outputs": [],
   "source": [
    "# Utiliza el mismo scaler que se ajustó a los datos de entrenamiento\n",
    "X_test_scaled = scaler.transform(X_test_imputed)\n"
   ]
  },
  {
   "cell_type": "code",
   "execution_count": 123,
   "metadata": {},
   "outputs": [
    {
     "name": "stdout",
     "output_type": "stream",
     "text": [
      "R^2 en datos de test: 0.093\n",
      "Mediana del error en datos de test: 22.92\n",
      "Media del error en datos de test: 26.05\n"
     ]
    }
   ],
   "source": [
    "from sklearn.impute import SimpleImputer\n",
    "\n",
    "# Ajustar el imputador a los datos de entrenamiento\n",
    "imputer.fit(X_train)\n",
    "\n",
    "# Luego, puedes transformar los datos de prueba\n",
    "X_test_imputed = imputer.transform(X_test)\n",
    "\n",
    "from sklearn.ensemble import RandomForestRegressor\n",
    "from sklearn.metrics import mean_absolute_error\n",
    "from sklearn.metrics import median_absolute_error\n",
    "\n",
    "# Crear y ajustar el modelo Random Forest\n",
    "rf = RandomForestRegressor(oob_score=True)\n",
    "rf.fit(X_train, y_train)\n",
    "\n",
    "# Realizar predicciones en el conjunto de prueba\n",
    "y_predict = rf.predict(X_test_imputed)\n",
    "\n",
    "# Calcular métricas de evaluación\n",
    "rf_testing_set_score = rf.score(X_test_imputed, y_test)\n",
    "rf_median_abs_error = median_absolute_error(y_test, y_predict)\n",
    "rf_mean_abs_error = mean_absolute_error(y_test, y_predict)\n",
    "\n",
    "# Imprimir resultados\n",
    "print('R^2 en datos de test: ' + str(round(rf_testing_set_score, 3)))\n",
    "print('Mediana del error en datos de test: ' + str(round(rf_median_abs_error, 3)))\n",
    "print('Media del error en datos de test: ' + str(round(rf_mean_abs_error, 3)))\n",
    "\n"
   ]
  },
  {
   "cell_type": "markdown",
   "metadata": {},
   "source": [
    "Conclusiones :\n",
    "\n",
    "Los resultados de tu modelo Random Forest en los datos de prueba son los siguientes:\n",
    "\n",
    "R^2 en datos de test: 0.093: Un valor de 0.093 sugiere que el modelo explica aproximadamente el 9.3% de la variabilidad en los datos de prueba.\n",
    "\n",
    "Mediana del error en datos de test: 22.92: La mediana del error es la mitad del valor de todos los errores de predicción. el modelo tiende a cometer errores de predicción de alrededor de 22.92 unidades en los datos de prueba.\n",
    "\n",
    "Media del error en datos de test: 26.05: el modelo tiende a cometer errores de predicción de alrededor de 26.05  en los datos de prueba.\n",
    "\n",
    "El modelo Random Forest parece explicar una pequeña parte de la variabilidad en los datos de prueba, pero los errores de predicción son relativamente altos en términos de mediana y media. Esto sugiere que el modelo podría no ser muy preciso en la predicción de la variable objetivo en estos datos. "
   ]
  },
  {
   "cell_type": "markdown",
   "metadata": {},
   "source": [
    "Si tuviera mas tiempo haria otras consideraciones, para tratar de tener mejores resultados."
   ]
  },
  {
   "cell_type": "code",
   "execution_count": null,
   "metadata": {},
   "outputs": [],
   "source": []
  }
 ],
 "metadata": {
  "kernelspec": {
   "display_name": "Python 3 (ipykernel)",
   "language": "python",
   "name": "python3"
  },
  "language_info": {
   "codemirror_mode": {
    "name": "ipython",
    "version": 3
   },
   "file_extension": ".py",
   "mimetype": "text/x-python",
   "name": "python",
   "nbconvert_exporter": "python",
   "pygments_lexer": "ipython3",
   "version": "3.9.13"
  }
 },
 "nbformat": 4,
 "nbformat_minor": 4
}
